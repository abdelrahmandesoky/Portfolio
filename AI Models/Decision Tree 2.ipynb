{
 "cells": [
  {
   "cell_type": "code",
   "execution_count": 1,
   "id": "95f19706",
   "metadata": {},
   "outputs": [],
   "source": [
    "from sklearn.datasets import load_iris"
   ]
  },
  {
   "cell_type": "code",
   "execution_count": 2,
   "id": "2c534887",
   "metadata": {},
   "outputs": [
    {
     "name": "stdout",
     "output_type": "stream",
     "text": [
      "['sepal length (cm)', 'sepal width (cm)', 'petal length (cm)', 'petal width (cm)']\n"
     ]
    }
   ],
   "source": [
    "dataset=load_iris()\n",
    "print(dataset.feature_names)"
   ]
  },
  {
   "cell_type": "code",
   "execution_count": 3,
   "id": "3a8632e5",
   "metadata": {},
   "outputs": [],
   "source": [
    "from sklearn.model_selection import train_test_split\n",
    "x_train,x_test,y_train,y_test=train_test_split(dataset.data,dataset.target,test_size=0.3,random_state=109)"
   ]
  },
  {
   "cell_type": "code",
   "execution_count": 4,
   "id": "9a9ed25d",
   "metadata": {},
   "outputs": [],
   "source": [
    "from sklearn import tree\n",
    "clf=tree.DecisionTreeClassifier(random_state=109, max_depth=5)\n",
    "clf=clf.fit(x_train,y_train)"
   ]
  },
  {
   "cell_type": "code",
   "execution_count": 5,
   "id": "a4806fbe",
   "metadata": {},
   "outputs": [
    {
     "data": {
      "text/plain": [
       "[Text(111.60000000000001, 199.32, 'X[2] <= 2.45\\ngini = 0.665\\nsamples = 105\\nvalue = [38, 33, 34]'),\n",
       " Text(55.800000000000004, 163.07999999999998, 'gini = 0.0\\nsamples = 38\\nvalue = [38, 0, 0]'),\n",
       " Text(167.4, 163.07999999999998, 'X[2] <= 4.85\\ngini = 0.5\\nsamples = 67\\nvalue = [0, 33, 34]'),\n",
       " Text(111.60000000000001, 126.83999999999999, 'gini = 0.0\\nsamples = 31\\nvalue = [0, 31, 0]'),\n",
       " Text(223.20000000000002, 126.83999999999999, 'X[3] <= 1.75\\ngini = 0.105\\nsamples = 36\\nvalue = [0, 2, 34]'),\n",
       " Text(167.4, 90.6, 'X[1] <= 2.9\\ngini = 0.48\\nsamples = 5\\nvalue = [0, 2, 3]'),\n",
       " Text(111.60000000000001, 54.359999999999985, 'gini = 0.0\\nsamples = 2\\nvalue = [0, 0, 2]'),\n",
       " Text(223.20000000000002, 54.359999999999985, 'X[0] <= 7.05\\ngini = 0.444\\nsamples = 3\\nvalue = [0, 2, 1]'),\n",
       " Text(167.4, 18.119999999999976, 'gini = 0.0\\nsamples = 2\\nvalue = [0, 2, 0]'),\n",
       " Text(279.0, 18.119999999999976, 'gini = 0.0\\nsamples = 1\\nvalue = [0, 0, 1]'),\n",
       " Text(279.0, 90.6, 'gini = 0.0\\nsamples = 31\\nvalue = [0, 0, 31]')]"
      ]
     },
     "execution_count": 5,
     "metadata": {},
     "output_type": "execute_result"
    },
    {
     "data": {
      "image/png": "[encoded data removed]",
      "text/plain": [
       "<Figure size 432x288 with 1 Axes>"
      ]
     },
     "metadata": {
      "needs_background": "light"
     },
     "output_type": "display_data"
    }
   ],
   "source": [
    "tree.plot_tree(clf)"
   ]
  },
  {
   "cell_type": "code",
   "execution_count": 6,
   "id": "1ad20498",
   "metadata": {},
   "outputs": [
    {
     "name": "stdout",
     "output_type": "stream",
     "text": [
      "|--- petal length (cm) <= 2.45\n",
      "|   |--- class: 0\n",
      "|--- petal length (cm) >  2.45\n",
      "|   |--- petal length (cm) <= 4.85\n",
      "|   |   |--- class: 1\n",
      "|   |--- petal length (cm) >  4.85\n",
      "|   |   |--- petal width (cm) <= 1.75\n",
      "|   |   |   |--- sepal width (cm) <= 2.90\n",
      "|   |   |   |   |--- class: 2\n",
      "|   |   |   |--- sepal width (cm) >  2.90\n",
      "|   |   |   |   |--- sepal length (cm) <= 7.05\n",
      "|   |   |   |   |   |--- class: 1\n",
      "|   |   |   |   |--- sepal length (cm) >  7.05\n",
      "|   |   |   |   |   |--- class: 2\n",
      "|   |   |--- petal width (cm) >  1.75\n",
      "|   |   |   |--- class: 2\n",
      "\n"
     ]
    }
   ],
   "source": [
    "from sklearn.tree import export_text\n",
    "result=export_text(clf,feature_names=dataset['feature_names'])\n",
    "print(result)"
   ]
  },
  {
   "cell_type": "code",
   "execution_count": 7,
   "id": "8932b344",
   "metadata": {},
   "outputs": [],
   "source": [
    "y_pred=clf.predict(x_test)"
   ]
  },
  {
   "cell_type": "code",
   "execution_count": 8,
   "id": "c42b0d04",
   "metadata": {},
   "outputs": [
    {
     "name": "stdout",
     "output_type": "stream",
     "text": [
      "Accuracy  :  0.8888888888888888\n",
      "Recall    :  0.8888888888888888\n",
      "Precision :  0.8896296296296295\n"
     ]
    }
   ],
   "source": [
    "from sklearn import metrics\n",
    "print('Accuracy  : ',metrics.accuracy_score(y_test,y_pred))\n",
    "print('Recall    : ',metrics.recall_score(y_test,y_pred,average='weighted'))#None, 'micro', 'macro', 'weighted', 'samples\n",
    "print('Precision : ',metrics.precision_score(y_test,y_pred,average='weighted'))"
   ]
  },
  {
   "cell_type": "code",
   "execution_count": null,
   "id": "9a2232dd",
   "metadata": {},
   "outputs": [],
   "source": []
  }
 ],
 "metadata": {
  "kernelspec": {
   "display_name": "Python 3 (ipykernel)",
   "language": "python",
   "name": "python3"
  },
  "language_info": {
   "codemirror_mode": {
    "name": "ipython",
    "version": 3
   },
   "file_extension": ".py",
   "mimetype": "text/x-python",
   "name": "python",
   "nbconvert_exporter": "python",
   "pygments_lexer": "ipython3",
   "version": "3.9.7"
  }
 },
 "nbformat": 4,
 "nbformat_minor": 5
}

{
 "cells": [
  {
   "cell_type": "code",
   "execution_count": 1,
   "id": "4514055c",
   "metadata": {},
   "outputs": [],
   "source": [
    "from tensorflow import keras\n",
    "from keras.datasets import cifar10\n",
    "import matplotlib.pyplot as plt"
   ]
  },
  {
   "cell_type": "code",
   "execution_count": 2,
   "id": "8f2ea903",
   "metadata": {},
   "outputs": [],
   "source": [
    "(x_train,y_train),(x_test,y_test)=cifar10.load_data()\n"
   ]
  },
  {
   "cell_type": "code",
   "execution_count": 3,
   "id": "831f5b2a",
   "metadata": {},
   "outputs": [],
   "source": [
    "#x_train_new , y_train_new = x_train[(y_train==0) | (y_train==8)], y_train[(y_train==0) | (y_train==8)]"
   ]
  },
  {
   "cell_type": "code",
   "execution_count": 4,
   "id": "7d84a72e",
   "metadata": {},
   "outputs": [
    {
     "data": {
      "text/plain": [
       "(50000, 32, 32, 3)"
      ]
     },
     "execution_count": 4,
     "metadata": {},
     "output_type": "execute_result"
    }
   ],
   "source": [
    "x_train.shape"
   ]
  },
  {
   "cell_type": "code",
   "execution_count": 5,
   "id": "9ed806eb",
   "metadata": {},
   "outputs": [],
   "source": [
    "#x_test_new , y_test_new = x_test[(y_test==0) | (y_test==8)] , y_test[(y_test==0)|(y_test==8)]"
   ]
  },
  {
   "cell_type": "code",
   "execution_count": 6,
   "id": "fbb07aa7",
   "metadata": {},
   "outputs": [
    {
     "data": {
      "text/plain": [
       "(10000, 32, 32, 3)"
      ]
     },
     "execution_count": 6,
     "metadata": {},
     "output_type": "execute_result"
    }
   ],
   "source": [
    "x_test.shape"
   ]
  },
  {
   "cell_type": "code",
   "execution_count": 12,
   "id": "ee4b8e88",
   "metadata": {},
   "outputs": [
    {
     "data": {
      "text/plain": [
       "(50000, 3072)"
      ]
     },
     "execution_count": 12,
     "metadata": {},
     "output_type": "execute_result"
    }
   ],
   "source": [
    "x_train_final=x_train.reshape((-1,3072))\n",
    "x_train_final.shape"
   ]
  },
  {
   "cell_type": "code",
   "execution_count": 13,
   "id": "c55b119b",
   "metadata": {},
   "outputs": [
    {
     "data": {
      "text/plain": [
       "(10000, 3072)"
      ]
     },
     "execution_count": 13,
     "metadata": {},
     "output_type": "execute_result"
    }
   ],
   "source": [
    "x_test_final=x_test.reshape((-1,3072))\n",
    "x_test_final.shape"
   ]
  },
  {
   "cell_type": "code",
   "execution_count": 14,
   "id": "3b743637",
   "metadata": {},
   "outputs": [],
   "source": [
    "x_train_final = x_train_final / 255\n",
    "x_test_final = x_test_final / 255"
   ]
  },
  {
   "cell_type": "code",
   "execution_count": 17,
   "id": "02ed1a70",
   "metadata": {},
   "outputs": [],
   "source": [
    "from tensorflow import keras\n",
    "from keras.models import Sequential\n",
    "from keras.layers import Dense\n",
    "\n",
    "model=Sequential()\n",
    "model.add(keras.layers.Dense(10,input_shape=(3072,),activation='softmax'))\n",
    "\n",
    "model.compile(optimizer='sgd',loss='sparse_categorical_crossentropy',metrics=['accuracy'])\n"
   ]
  },
  {
   "cell_type": "code",
   "execution_count": 18,
   "id": "d8374d13",
   "metadata": {},
   "outputs": [
    {
     "name": "stdout",
     "output_type": "stream",
     "text": [
      "Epoch 1/30\n",
      "3125/3125 [==============================] - 8s 2ms/step - loss: 1.9842 - accuracy: 0.2992 - val_loss: 1.8641 - val_accuracy: 0.3415\n",
      "Epoch 2/30\n",
      "3125/3125 [==============================] - 4s 1ms/step - loss: 1.8893 - accuracy: 0.3441 - val_loss: 1.9782 - val_accuracy: 0.3253\n",
      "Epoch 3/30\n",
      "3125/3125 [==============================] - 4s 1ms/step - loss: 1.8596 - accuracy: 0.3533 - val_loss: 1.9370 - val_accuracy: 0.3353curacy: \n",
      "Epoch 4/30\n",
      "3125/3125 [==============================] - 4s 1ms/step - loss: 1.8415 - accuracy: 0.3601 - val_loss: 1.8900 - val_accuracy: 0.3405\n",
      "Epoch 5/30\n",
      "3125/3125 [==============================] - 4s 1ms/step - loss: 1.8334 - accuracy: 0.3630 - val_loss: 1.8568 - val_accuracy: 0.3564\n",
      "Epoch 6/30\n",
      "3125/3125 [==============================] - 4s 1ms/step - loss: 1.8222 - accuracy: 0.3710 - val_loss: 1.7890 - val_accuracy: 0.3786\n",
      "Epoch 7/30\n",
      "3125/3125 [==============================] - 3s 1ms/step - loss: 1.8138 - accuracy: 0.3732 - val_loss: 1.9567 - val_accuracy: 0.3384\n",
      "Epoch 8/30\n",
      "3125/3125 [==============================] - 4s 1ms/step - loss: 1.8038 - accuracy: 0.3767 - val_loss: 1.9772 - val_accuracy: 0.3155\n",
      "Epoch 9/30\n",
      "3125/3125 [==============================] - 4s 1ms/step - loss: 1.8027 - accuracy: 0.3771 - val_loss: 1.7842 - val_accuracy: 0.3746\n",
      "Epoch 10/30\n",
      "3125/3125 [==============================] - 4s 1ms/step - loss: 1.7973 - accuracy: 0.3800 - val_loss: 1.9088 - val_accuracy: 0.3372\n",
      "Epoch 11/30\n",
      "3125/3125 [==============================] - 4s 1ms/step - loss: 1.7933 - accuracy: 0.3824 - val_loss: 1.8486 - val_accuracy: 0.3695\n",
      "Epoch 12/30\n",
      "3125/3125 [==============================] - 4s 1ms/step - loss: 1.7910 - accuracy: 0.3831 - val_loss: 1.7852 - val_accuracy: 0.3849\n",
      "Epoch 13/30\n",
      "3125/3125 [==============================] - 4s 1ms/step - loss: 1.7870 - accuracy: 0.3854 - val_loss: 2.0201 - val_accuracy: 0.3256\n",
      "Epoch 14/30\n",
      "3125/3125 [==============================] - 4s 1ms/step - loss: 1.7786 - accuracy: 0.3885 - val_loss: 1.8536 - val_accuracy: 0.3599\n",
      "Epoch 15/30\n",
      "3125/3125 [==============================] - 4s 1ms/step - loss: 1.7799 - accuracy: 0.3891 - val_loss: 1.8175 - val_accuracy: 0.3771\n",
      "Epoch 16/30\n",
      "3125/3125 [==============================] - 4s 1ms/step - loss: 1.7741 - accuracy: 0.3898 - val_loss: 1.8252 - val_accuracy: 0.3728\n",
      "Epoch 17/30\n",
      "3125/3125 [==============================] - 4s 1ms/step - loss: 1.7783 - accuracy: 0.3883 - val_loss: 1.9191 - val_accuracy: 0.3371\n",
      "Epoch 18/30\n",
      "3125/3125 [==============================] - 4s 1ms/step - loss: 1.7732 - accuracy: 0.3901 - val_loss: 1.9005 - val_accuracy: 0.3366\n",
      "Epoch 19/30\n",
      "3125/3125 [==============================] - 4s 1ms/step - loss: 1.7715 - accuracy: 0.3896 - val_loss: 1.8106 - val_accuracy: 0.3695\n",
      "Epoch 20/30\n",
      "3125/3125 [==============================] - 4s 1ms/step - loss: 1.7702 - accuracy: 0.3919 - val_loss: 1.8183 - val_accuracy: 0.3742\n",
      "Epoch 21/30\n",
      "3125/3125 [==============================] - 4s 1ms/step - loss: 1.7631 - accuracy: 0.3951 - val_loss: 1.7951 - val_accuracy: 0.3841\n",
      "Epoch 22/30\n",
      "3125/3125 [==============================] - 4s 1ms/step - loss: 1.7684 - accuracy: 0.3915 - val_loss: 1.7941 - val_accuracy: 0.3852\n",
      "Epoch 23/30\n",
      "3125/3125 [==============================] - 3s 1ms/step - loss: 1.7607 - accuracy: 0.3944 - val_loss: 1.7922 - val_accuracy: 0.3838\n",
      "Epoch 24/30\n",
      "3125/3125 [==============================] - 4s 1ms/step - loss: 1.7630 - accuracy: 0.3949 - val_loss: 1.8242 - val_accuracy: 0.3723\n",
      "Epoch 25/30\n",
      "3125/3125 [==============================] - 4s 1ms/step - loss: 1.7595 - accuracy: 0.3973 - val_loss: 1.7899 - val_accuracy: 0.3753\n",
      "Epoch 26/30\n",
      "3125/3125 [==============================] - 4s 1ms/step - loss: 1.7594 - accuracy: 0.3979 - val_loss: 1.8377 - val_accuracy: 0.3629\n",
      "Epoch 27/30\n",
      "3125/3125 [==============================] - 4s 1ms/step - loss: 1.7557 - accuracy: 0.3951 - val_loss: 1.8430 - val_accuracy: 0.3640\n",
      "Epoch 28/30\n",
      "3125/3125 [==============================] - 4s 1ms/step - loss: 1.7571 - accuracy: 0.3973 - val_loss: 1.8099 - val_accuracy: 0.3721\n",
      "Epoch 29/30\n",
      "3125/3125 [==============================] - 3s 1ms/step - loss: 1.7549 - accuracy: 0.3993 - val_loss: 1.8416 - val_accuracy: 0.3717\n",
      "Epoch 30/30\n",
      "3125/3125 [==============================] - 4s 1ms/step - loss: 1.7555 - accuracy: 0.3982 - val_loss: 1.9373 - val_accuracy: 0.3335\n"
     ]
    }
   ],
   "source": [
    "result=model.fit(\n",
    "x=x_train_final,\n",
    "y=y_train,\n",
    "shuffle=True,\n",
    "validation_data=(x_test_final,y_test),    \n",
    "epochs=30,\n",
    "batch_size=16)"
   ]
  },
  {
   "cell_type": "code",
   "execution_count": 19,
   "id": "7969ced9",
   "metadata": {},
   "outputs": [
    {
     "name": "stdout",
     "output_type": "stream",
     "text": [
      "313/313 [==============================] - 1s 2ms/step - loss: 1.9373 - accuracy: 0.3335\n"
     ]
    }
   ],
   "source": [
    "test=model.evaluate(x=x_test_final,y=y_test)"
   ]
  },
  {
   "cell_type": "code",
   "execution_count": 20,
   "id": "1f909a45",
   "metadata": {},
   "outputs": [
    {
     "data": {
      "text/plain": [
       "array([[4.28824266e-03, 7.91912246e-03, 4.55768034e-02, ...,\n",
       "        4.26500948e-04, 4.30815816e-02, 1.95888599e-04],\n",
       "       [7.07476586e-02, 1.08465329e-01, 2.92735342e-02, ...,\n",
       "        6.91994501e-04, 2.22386554e-01, 5.15578926e-01],\n",
       "       [5.12285054e-01, 2.55816747e-02, 2.67122108e-02, ...,\n",
       "        3.22495517e-03, 2.88634121e-01, 3.46927121e-02],\n",
       "       ...,\n",
       "       [1.00565422e-02, 7.37696048e-03, 1.27459109e-01, ...,\n",
       "        2.83615608e-02, 5.95736923e-03, 5.04733482e-03],\n",
       "       [1.25027020e-02, 6.46810904e-02, 1.39108270e-01, ...,\n",
       "        7.84885045e-03, 7.64072221e-03, 1.44257937e-02],\n",
       "       [7.38530084e-02, 8.09839461e-03, 3.06731701e-01, ...,\n",
       "        1.02587126e-01, 1.98069289e-02, 8.47122166e-03]], dtype=float32)"
      ]
     },
     "execution_count": 20,
     "metadata": {},
     "output_type": "execute_result"
    }
   ],
   "source": [
    "model.predict(x_test_final)"
   ]
  },
  {
   "cell_type": "code",
   "execution_count": 21,
   "id": "93f68425",
   "metadata": {},
   "outputs": [
    {
     "data": {
      "text/plain": [
       "Text(0.5, 0, 'epoch')"
      ]
     },
     "execution_count": 21,
     "metadata": {},
     "output_type": "execute_result"
    },
    {
     "data": {
      "image/png": "[encoded data removed]",
      "text/plain": [
       "<Figure size 432x288 with 1 Axes>"
      ]
     },
     "metadata": {
      "needs_background": "light"
     },
     "output_type": "display_data"
    }
   ],
   "source": [
    "import matplotlib.pyplot as plt\n",
    "\n",
    "plt.plot(result.history['loss'])\n",
    "plt.plot(result.history['val_loss'])\n",
    "plt.legend(['Training', 'Validation'])\n",
    "plt.title('Training and Validation losses')\n",
    "plt.xlabel('epoch')\n"
   ]
  },
  {
   "cell_type": "code",
   "execution_count": 22,
   "id": "5c1d1304",
   "metadata": {},
   "outputs": [
    {
     "data": {
      "text/plain": [
       "Text(0.5, 0, 'epoch')"
      ]
     },
     "execution_count": 22,
     "metadata": {},
     "output_type": "execute_result"
    },
    {
     "data": {
      "image/png": "[encoded data removed]",
      "text/plain": [
       "<Figure size 432x288 with 1 Axes>"
      ]
     },
     "metadata": {
      "needs_background": "light"
     },
     "output_type": "display_data"
    }
   ],
   "source": [
    "import matplotlib.pyplot as plt\n",
    "\n",
    "plt.plot(result.history['accuracy'])\n",
    "plt.plot(result.history['val_accuracy'])\n",
    "plt.legend(['Training', 'Validation'])\n",
    "plt.title('Training and Validation losses')\n",
    "plt.xlabel('epoch')\n"
   ]
  },
  {
   "cell_type": "code",
   "execution_count": 27,
   "id": "e6b2f11b",
   "metadata": {},
   "outputs": [
    {
     "name": "stdout",
     "output_type": "stream",
     "text": [
      "the number is  [8] \n",
      "\n",
      "[[0.07074769 0.10846537 0.02927354 0.04151337 0.00421661 0.00298447\n",
      "  0.00414163 0.00069199 0.22238596 0.51557934]]\n"
     ]
    },
    {
     "data": {
      "text/plain": [
       "<matplotlib.image.AxesImage at 0x1c153bdb7c0>"
      ]
     },
     "execution_count": 27,
     "metadata": {},
     "output_type": "execute_result"
    },
    {
     "data": {
      "image/png": "[encoded data removed]",
      "text/plain": [
       "<Figure size 432x288 with 1 Axes>"
      ]
     },
     "metadata": {
      "needs_background": "light"
     },
     "output_type": "display_data"
    }
   ],
   "source": [
    "print('the number is ',y_test[1],'\\n')#2,3,7,8,9\n",
    "idx=[1]\n",
    "print(model.predict(x_test_final[idx,:].reshape(1,-1)))\n",
    "plt.imshow(x_test_final[idx,:].reshape(32,32,3))"
   ]
  },
  {
   "cell_type": "code",
   "execution_count": null,
   "id": "250f8fe5",
   "metadata": {},
   "outputs": [],
   "source": []
  },
  {
   "cell_type": "code",
   "execution_count": null,
   "id": "b755e838",
   "metadata": {},
   "outputs": [],
   "source": []
  }
 ],
 "metadata": {
  "kernelspec": {
   "display_name": "Python 3 (ipykernel)",
   "language": "python",
   "name": "python3"
  },
  "language_info": {
   "codemirror_mode": {
    "name": "ipython",
    "version": 3
   },
   "file_extension": ".py",
   "mimetype": "text/x-python",
   "name": "python",
   "nbconvert_exporter": "python",
   "pygments_lexer": "ipython3",
   "version": "3.9.7"
  }
 },
 "nbformat": 4,
 "nbformat_minor": 5
}

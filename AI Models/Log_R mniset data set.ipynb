{
 "cells": [
  {
   "cell_type": "code",
   "execution_count": 1,
   "id": "4514055c",
   "metadata": {},
   "outputs": [],
   "source": [
    "from tensorflow import keras\n",
    "from keras.datasets import fashion_mnist\n",
    "import matplotlib.pyplot as plt"
   ]
  },
  {
   "cell_type": "code",
   "execution_count": 2,
   "id": "8f2ea903",
   "metadata": {},
   "outputs": [],
   "source": [
    "(x_train,y_train),(x_test,y_test)=fashion_mnist.load_data()\n"
   ]
  },
  {
   "cell_type": "code",
   "execution_count": 3,
   "id": "831f5b2a",
   "metadata": {},
   "outputs": [],
   "source": [
    "#x_train_new , y_train_new = x_train[(y_train==0) | (y_train==8)], y_train[(y_train==0) | (y_train==8)]"
   ]
  },
  {
   "cell_type": "code",
   "execution_count": 20,
   "id": "7d84a72e",
   "metadata": {},
   "outputs": [
    {
     "data": {
      "text/plain": [
       "(60000, 28, 28)"
      ]
     },
     "execution_count": 20,
     "metadata": {},
     "output_type": "execute_result"
    }
   ],
   "source": [
    "x_train.shape"
   ]
  },
  {
   "cell_type": "code",
   "execution_count": 5,
   "id": "9ed806eb",
   "metadata": {},
   "outputs": [],
   "source": [
    "#x_test_new , y_test_new = x_test[(y_test==0) | (y_test==8)] , y_test[(y_test==0)|(y_test==8)]"
   ]
  },
  {
   "cell_type": "code",
   "execution_count": 6,
   "id": "fbb07aa7",
   "metadata": {},
   "outputs": [],
   "source": [
    "#x_test_new.shape"
   ]
  },
  {
   "cell_type": "code",
   "execution_count": 7,
   "id": "ee4b8e88",
   "metadata": {},
   "outputs": [
    {
     "data": {
      "text/plain": [
       "(60000, 784)"
      ]
     },
     "execution_count": 7,
     "metadata": {},
     "output_type": "execute_result"
    }
   ],
   "source": [
    "x_train_final=x_train.reshape((-1,784))\n",
    "x_train_final.shape"
   ]
  },
  {
   "cell_type": "code",
   "execution_count": 8,
   "id": "c55b119b",
   "metadata": {},
   "outputs": [
    {
     "data": {
      "text/plain": [
       "(10000, 784)"
      ]
     },
     "execution_count": 8,
     "metadata": {},
     "output_type": "execute_result"
    }
   ],
   "source": [
    "x_test_final=x_test.reshape((-1,784))\n",
    "x_test_final.shape"
   ]
  },
  {
   "cell_type": "code",
   "execution_count": 9,
   "id": "0030425a",
   "metadata": {},
   "outputs": [],
   "source": [
    "x_train_final = x_train_final / 255\n",
    "x_test_final = x_test_final / 255"
   ]
  },
  {
   "cell_type": "code",
   "execution_count": 10,
   "id": "02ed1a70",
   "metadata": {},
   "outputs": [],
   "source": [
    "from tensorflow import keras\n",
    "from keras.models import Sequential\n",
    "from keras.layers import Dense\n",
    "\n",
    "model=Sequential()\n",
    "model.add(keras.layers.Dense(10,input_shape=(784,),activation='softmax'))\n",
    "\n",
    "model.compile(optimizer='sgd',loss='sparse_categorical_crossentropy',metrics=['accuracy'])\n"
   ]
  },
  {
   "cell_type": "code",
   "execution_count": 11,
   "id": "d8374d13",
   "metadata": {},
   "outputs": [
    {
     "name": "stdout",
     "output_type": "stream",
     "text": [
      "Epoch 1/30\n",
      "3750/3750 [==============================] - 4s 978us/step - loss: 0.7160 - accuracy: 0.7680 - val_loss: 0.5955 - val_accuracy: 0.8009\n",
      "Epoch 2/30\n",
      "3750/3750 [==============================] - 3s 866us/step - loss: 0.5332 - accuracy: 0.8235 - val_loss: 0.5367 - val_accuracy: 0.8181\n",
      "Epoch 3/30\n",
      "3750/3750 [==============================] - 3s 839us/step - loss: 0.4958 - accuracy: 0.8332 - val_loss: 0.5160 - val_accuracy: 0.8216\n",
      "Epoch 4/30\n",
      "3750/3750 [==============================] - 3s 867us/step - loss: 0.4756 - accuracy: 0.8390 - val_loss: 0.4986 - val_accuracy: 0.8272\n",
      "Epoch 5/30\n",
      "3750/3750 [==============================] - 3s 877us/step - loss: 0.4625 - accuracy: 0.8441 - val_loss: 0.4867 - val_accuracy: 0.8317\n",
      "Epoch 6/30\n",
      "3750/3750 [==============================] - 3s 832us/step - loss: 0.4523 - accuracy: 0.8465 - val_loss: 0.4809 - val_accuracy: 0.8342\n",
      "Epoch 7/30\n",
      "3750/3750 [==============================] - 3s 853us/step - loss: 0.4454 - accuracy: 0.8481 - val_loss: 0.4766 - val_accuracy: 0.8356\n",
      "Epoch 8/30\n",
      "3750/3750 [==============================] - 3s 818us/step - loss: 0.4393 - accuracy: 0.8511 - val_loss: 0.4707 - val_accuracy: 0.8363\n",
      "Epoch 9/30\n",
      "3750/3750 [==============================] - 3s 822us/step - loss: 0.4344 - accuracy: 0.8520 - val_loss: 0.4679 - val_accuracy: 0.8356\n",
      "Epoch 10/30\n",
      "3750/3750 [==============================] - 3s 875us/step - loss: 0.4307 - accuracy: 0.8535 - val_loss: 0.4778 - val_accuracy: 0.8363\n",
      "Epoch 11/30\n",
      "3750/3750 [==============================] - 3s 914us/step - loss: 0.4267 - accuracy: 0.8544 - val_loss: 0.4659 - val_accuracy: 0.8382\n",
      "Epoch 12/30\n",
      "3750/3750 [==============================] - 3s 876us/step - loss: 0.4238 - accuracy: 0.8556 - val_loss: 0.4603 - val_accuracy: 0.8391\n",
      "Epoch 13/30\n",
      "3750/3750 [==============================] - 3s 828us/step - loss: 0.4206 - accuracy: 0.8562 - val_loss: 0.4641 - val_accuracy: 0.8372\n",
      "Epoch 14/30\n",
      "3750/3750 [==============================] - 3s 842us/step - loss: 0.4184 - accuracy: 0.8579 - val_loss: 0.4547 - val_accuracy: 0.8407\n",
      "Epoch 15/30\n",
      "3750/3750 [==============================] - 3s 849us/step - loss: 0.4164 - accuracy: 0.8572 - val_loss: 0.4524 - val_accuracy: 0.8423\n",
      "Epoch 16/30\n",
      "3750/3750 [==============================] - 4s 936us/step - loss: 0.4140 - accuracy: 0.8583 - val_loss: 0.4570 - val_accuracy: 0.8372 loss: 0.4117 - accu\n",
      "Epoch 17/30\n",
      "3750/3750 [==============================] - 4s 987us/step - loss: 0.4123 - accuracy: 0.8589 - val_loss: 0.4530 - val_accuracy: 0.8419\n",
      "Epoch 18/30\n",
      "3750/3750 [==============================] - 3s 930us/step - loss: 0.4104 - accuracy: 0.8595 - val_loss: 0.4506 - val_accuracy: 0.84120s - loss: 0.4118 - accuracy:  - ETA: 0s - loss: 0.4108 - accuracy\n",
      "Epoch 19/30\n",
      "3750/3750 [==============================] - 3s 842us/step - loss: 0.4092 - accuracy: 0.8600 - val_loss: 0.4496 - val_accuracy: 0.8428\n",
      "Epoch 20/30\n",
      "3750/3750 [==============================] - 3s 860us/step - loss: 0.4075 - accuracy: 0.8612 - val_loss: 0.4548 - val_accuracy: 0.8402\n",
      "Epoch 21/30\n",
      "3750/3750 [==============================] - 3s 853us/step - loss: 0.4065 - accuracy: 0.8613 - val_loss: 0.4502 - val_accuracy: 0.8421\n",
      "Epoch 22/30\n",
      "3750/3750 [==============================] - 3s 915us/step - loss: 0.4052 - accuracy: 0.8611 - val_loss: 0.4483 - val_accuracy: 0.8414\n",
      "Epoch 23/30\n",
      "3750/3750 [==============================] - 4s 1ms/step - loss: 0.4038 - accuracy: 0.8614 - val_loss: 0.4494 - val_accuracy: 0.8415\n",
      "Epoch 24/30\n",
      "3750/3750 [==============================] - 4s 953us/step - loss: 0.4026 - accuracy: 0.8617 - val_loss: 0.4482 - val_accuracy: 0.8415\n",
      "Epoch 25/30\n",
      "3750/3750 [==============================] - 3s 868us/step - loss: 0.4012 - accuracy: 0.8622 - val_loss: 0.4459 - val_accuracy: 0.8439\n",
      "Epoch 26/30\n",
      "3750/3750 [==============================] - 3s 838us/step - loss: 0.4004 - accuracy: 0.8620 - val_loss: 0.4443 - val_accuracy: 0.8441\n",
      "Epoch 27/30\n",
      "3750/3750 [==============================] - 3s 773us/step - loss: 0.3994 - accuracy: 0.8624 - val_loss: 0.4450 - val_accuracy: 0.8442\n",
      "Epoch 28/30\n",
      "3750/3750 [==============================] - 3s 758us/step - loss: 0.3985 - accuracy: 0.8623 - val_loss: 0.4430 - val_accuracy: 0.8432\n",
      "Epoch 29/30\n",
      "3750/3750 [==============================] - 3s 751us/step - loss: 0.3976 - accuracy: 0.8632 - val_loss: 0.4450 - val_accuracy: 0.8439\n",
      "Epoch 30/30\n",
      "3750/3750 [==============================] - 3s 766us/step - loss: 0.3970 - accuracy: 0.8635 - val_loss: 0.4524 - val_accuracy: 0.8395\n"
     ]
    }
   ],
   "source": [
    "result=model.fit(\n",
    "x=x_train_final,\n",
    "y=y_train,\n",
    "shuffle=True,\n",
    "validation_data=(x_test_final,y_test),    \n",
    "epochs=30,\n",
    "batch_size=16)"
   ]
  },
  {
   "cell_type": "code",
   "execution_count": 12,
   "id": "7969ced9",
   "metadata": {},
   "outputs": [
    {
     "name": "stdout",
     "output_type": "stream",
     "text": [
      "313/313 [==============================] - 0s 986us/step - loss: 0.4524 - accuracy: 0.8395\n"
     ]
    }
   ],
   "source": [
    "test=model.evaluate(x=x_test_final,y=y_test)"
   ]
  },
  {
   "cell_type": "code",
   "execution_count": 13,
   "id": "1f909a45",
   "metadata": {},
   "outputs": [
    {
     "data": {
      "text/plain": [
       "array([[1.7899965e-06, 6.5382591e-07, 1.0767187e-05, ..., 1.5278681e-01,\n",
       "        6.1602416e-03, 7.3525310e-01],\n",
       "       [3.7634029e-04, 1.4050596e-06, 8.0541265e-01, ..., 1.6100974e-12,\n",
       "        7.9899386e-05, 3.6056391e-11],\n",
       "       [5.1451327e-05, 9.9987388e-01, 7.5928201e-06, ..., 4.4179561e-08,\n",
       "        4.1589291e-07, 1.7943670e-10],\n",
       "       ...,\n",
       "       [5.9242528e-02, 6.1526439e-06, 1.9789191e-03, ..., 1.6682019e-04,\n",
       "        5.9679991e-01, 2.8038976e-06],\n",
       "       [3.4001355e-06, 9.9935704e-01, 6.2814756e-06, ..., 4.7022684e-07,\n",
       "        4.0979859e-07, 3.9650803e-07],\n",
       "       [5.6699588e-05, 6.7134424e-05, 4.1678851e-04, ..., 4.3973472e-02,\n",
       "        8.6122695e-03, 2.1678761e-03]], dtype=float32)"
      ]
     },
     "execution_count": 13,
     "metadata": {},
     "output_type": "execute_result"
    }
   ],
   "source": [
    "model.predict(x_test_final)"
   ]
  },
  {
   "cell_type": "code",
   "execution_count": 14,
   "id": "aee0aa96",
   "metadata": {},
   "outputs": [
    {
     "data": {
      "text/plain": [
       "Text(0.5, 0, 'epoch')"
      ]
     },
     "execution_count": 14,
     "metadata": {},
     "output_type": "execute_result"
    },
    {
     "data": {
      "image/png": "[encoded data removed]",
      "text/plain": [
       "<Figure size 432x288 with 1 Axes>"
      ]
     },
     "metadata": {
      "needs_background": "light"
     },
     "output_type": "display_data"
    }
   ],
   "source": [
    "import matplotlib.pyplot as plt\n",
    "\n",
    "plt.plot(result.history['loss'])\n",
    "plt.plot(result.history['val_loss'])\n",
    "plt.legend(['Training', 'Validation'])\n",
    "plt.title('Training and Validation losses')\n",
    "plt.xlabel('epoch')\n"
   ]
  },
  {
   "cell_type": "code",
   "execution_count": 15,
   "id": "a0ada92f",
   "metadata": {},
   "outputs": [
    {
     "data": {
      "text/plain": [
       "Text(0.5, 0, 'epoch')"
      ]
     },
     "execution_count": 15,
     "metadata": {},
     "output_type": "execute_result"
    },
    {
     "data": {
      "image/png": "[encoded data removed]",
      "text/plain": [
       "<Figure size 432x288 with 1 Axes>"
      ]
     },
     "metadata": {
      "needs_background": "light"
     },
     "output_type": "display_data"
    }
   ],
   "source": [
    "import matplotlib.pyplot as plt\n",
    "\n",
    "plt.plot(result.history['accuracy'])\n",
    "plt.plot(result.history['val_accuracy'])\n",
    "plt.legend(['Training', 'Validation'])\n",
    "plt.title('Training and Validation losses')\n",
    "plt.xlabel('epoch')\n"
   ]
  },
  {
   "cell_type": "code",
   "execution_count": 18,
   "id": "c1c6a1f4",
   "metadata": {},
   "outputs": [
    {
     "name": "stdout",
     "output_type": "stream",
     "text": [
      "the number is  2 \n",
      "\n",
      "[[1.7798568e-01 5.3002161e-04 5.4891631e-02 7.8161787e-03 8.4377468e-02\n",
      "  9.5538635e-06 6.7089409e-01 1.5754391e-07 3.4903099e-03 4.9938144e-06]]\n"
     ]
    },
    {
     "data": {
      "text/plain": [
       "<matplotlib.image.AxesImage at 0x2716971ba00>"
      ]
     },
     "execution_count": 18,
     "metadata": {},
     "output_type": "execute_result"
    },
    {
     "data": {
      "image/png": "[encoded data removed]",
      "text/plain": [
       "<Figure size 432x288 with 1 Axes>"
      ]
     },
     "metadata": {
      "needs_background": "light"
     },
     "output_type": "display_data"
    }
   ],
   "source": [
    "print('the number is ',y_test[1],'\\n')#2,3,7,8,9\n",
    "idx=[4]\n",
    "print(model.predict(x_test_final[idx,:].reshape(1,-1)))\n",
    "plt.imshow(x_test_final[idx,:].reshape(28,28))"
   ]
  },
  {
   "cell_type": "code",
   "execution_count": null,
   "id": "3337c444",
   "metadata": {},
   "outputs": [],
   "source": []
  },
  {
   "cell_type": "code",
   "execution_count": null,
   "id": "d6735ac0",
   "metadata": {},
   "outputs": [],
   "source": []
  }
 ],
 "metadata": {
  "kernelspec": {
   "display_name": "Python 3 (ipykernel)",
   "language": "python",
   "name": "python3"
  },
  "language_info": {
   "codemirror_mode": {
    "name": "ipython",
    "version": 3
   },
   "file_extension": ".py",
   "mimetype": "text/x-python",
   "name": "python",
   "nbconvert_exporter": "python",
   "pygments_lexer": "ipython3",
   "version": "3.9.7"
  }
 },
 "nbformat": 4,
 "nbformat_minor": 5
}

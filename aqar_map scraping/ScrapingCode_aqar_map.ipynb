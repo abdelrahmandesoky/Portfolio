{
 "cells": [
  {
   "cell_type": "code",
   "execution_count": 1,
   "id": "a2aab1b0",
   "metadata": {},
   "outputs": [],
   "source": [
    "import requests\n",
    "from bs4 import BeautifulSoup\n",
    "import pandas as pd"
   ]
  },
  {
   "cell_type": "code",
   "execution_count": 2,
   "id": "47444a7f",
   "metadata": {},
   "outputs": [],
   "source": [
    "title=[]\n",
    "type_building=[]\n",
    "size=[]\n",
    "location=[]\n",
    "price=[]\n",
    "page=[]\n",
    "links=[]\n",
    "description=[]"
   ]
  },
  {
   "cell_type": "code",
   "execution_count": 3,
   "id": "0651f222",
   "metadata": {},
   "outputs": [
    {
     "name": "stdout",
     "output_type": "stream",
     "text": [
      "Page Switched  2\n",
      "Page Switched  3\n",
      "Page Switched  4\n",
      "Page Switched  5\n",
      "Page Switched  6\n",
      "Page Switched  7\n",
      "Page Switched  8\n",
      "Page Switched  9\n",
      "Page Switched  10\n"
     ]
    }
   ],
   "source": [
    "length=1\n",
    "page_no=1\n",
    "while page_no<10 :\n",
    "    result=requests.get('https://aqarmap.com.eg/en/for-sale/property-type/cairo/?page={}'.format(page_no))\n",
    "    src=result.content\n",
    "    soup=BeautifulSoup(src,'lxml')\n",
    "    containers=soup.find_all('div',{\"small-card search-Result-Card col-lg-6 col-md-6 col-sm-12 col-xs-12\"})\n",
    "    lenght=len(containers)/15\n",
    "    \n",
    "  \n",
    "    for i in range (len(containers)):\n",
    "        title.append(containers[i].h2.text.replace('\\n',''))\n",
    "        type_building.append((containers[i].div.label.text.replace('\\n','').strip()))\n",
    "        location.append(containers[i].find('p',{\"class\":\"card-details-address\"}).text.replace('\\n','').strip())\n",
    "        price.append(containers[i].find('div',{\"class\":\"price-container mb-4\"}).text.replace('\\n',''))\n",
    "        \n",
    "        adv_link = containers[i].a.attrs['href']\n",
    "        link=(\"https://aqarmap.com.eg\"+adv_link)\n",
    "        links.append(link)\n",
    "       \n",
    "        link_res=requests.get(link)\n",
    "        link_src=link_res.content\n",
    "        adv=BeautifulSoup(link_src,'lxml')\n",
    "        size.append(adv.find('label',{'itemprop':'floorSize'}).text.replace('\\n','').strip())\n",
    "        description.append(adv.find('div',{'id':'listingDescriptionText'}).text.replace('\\n','').strip())   \n",
    "        \n",
    "        page.append(page_no)\n",
    "    \n",
    "    page_no+=1\n",
    "    print('Page Switched ',page_no)    \n",
    "    "
   ]
  },
  {
   "cell_type": "code",
   "execution_count": 5,
   "id": "6b605018",
   "metadata": {},
   "outputs": [],
   "source": [
    "df=pd.DataFrame({'Page':page,'Title':title,'Type':type_building,'Location':location,'Size':size,'Price':price,'Links':links,'Description':description})"
   ]
  },
  {
   "cell_type": "code",
   "execution_count": 6,
   "id": "37d89541",
   "metadata": {},
   "outputs": [
    {
     "data": {
      "text/html": [
       "<div>\n",
       "<style scoped>\n",
       "    .dataframe tbody tr th:only-of-type {\n",
       "        vertical-align: middle;\n",
       "    }\n",
       "\n",
       "    .dataframe tbody tr th {\n",
       "        vertical-align: top;\n",
       "    }\n",
       "\n",
       "    .dataframe thead th {\n",
       "        text-align: right;\n",
       "    }\n",
       "</style>\n",
       "<table border=\"1\" class=\"dataframe\">\n",
       "  <thead>\n",
       "    <tr style=\"text-align: right;\">\n",
       "      <th></th>\n",
       "      <th>Page</th>\n",
       "      <th>Title</th>\n",
       "      <th>Type</th>\n",
       "      <th>Location</th>\n",
       "      <th>Size</th>\n",
       "      <th>Price</th>\n",
       "      <th>Links</th>\n",
       "      <th>Description</th>\n",
       "    </tr>\n",
       "  </thead>\n",
       "  <tbody>\n",
       "    <tr>\n",
       "      <th>0</th>\n",
       "      <td>1</td>\n",
       "      <td>Commercial For sale in Downtown</td>\n",
       "      <td>Commercial</td>\n",
       "      <td>الداون تاون, العاصمة الإدارية الجديدة</td>\n",
       "      <td>61 M²</td>\n",
       "      <td>5,066,656EGP</td>\n",
       "      <td>https://aqarmap.com.eg/en/listing/3163597-for-...</td>\n",
       "      <td>Commercial For sale in Downtown</td>\n",
       "    </tr>\n",
       "    <tr>\n",
       "      <th>1</th>\n",
       "      <td>1</td>\n",
       "      <td>Apartment For sale in Nasr City</td>\n",
       "      <td>Apartments</td>\n",
       "      <td>الحديقة الدولية, مدينة نصر</td>\n",
       "      <td>70 M²</td>\n",
       "      <td>620,000EGP</td>\n",
       "      <td>https://aqarmap.com.eg/en/listing/3199492-for-...</td>\n",
       "      <td>Area: 70mFourth Floor2 bedrooms + 1 bathroomSu...</td>\n",
       "    </tr>\n",
       "    <tr>\n",
       "      <th>2</th>\n",
       "      <td>1</td>\n",
       "      <td>Grave For sale in Other neighborhoods In New C...</td>\n",
       "      <td>Grave</td>\n",
       "      <td>مناطق فرعية بالقاهرة الجديدة, القاهرة الجديدة ...</td>\n",
       "      <td>40 M²</td>\n",
       "      <td>250,000EGP</td>\n",
       "      <td>https://aqarmap.com.eg/en/listing/3199404-for-...</td>\n",
       "      <td>Grave For sale in Other neighborhoods In New C...</td>\n",
       "    </tr>\n",
       "    <tr>\n",
       "      <th>3</th>\n",
       "      <td>1</td>\n",
       "      <td>Office for sale 120m in West Lane Mall - 6 Oct...</td>\n",
       "      <td>Offices</td>\n",
       "      <td>6 October</td>\n",
       "      <td>120 M²</td>\n",
       "      <td>5,137,840EGP</td>\n",
       "      <td>https://aqarmap.com.eg/en/listing/2801136-proj...</td>\n",
       "      <td>6th of October City is one of the new cities t...</td>\n",
       "    </tr>\n",
       "    <tr>\n",
       "      <th>4</th>\n",
       "      <td>1</td>\n",
       "      <td>Office for sale 196m in Zed Strip Mall - Sheik...</td>\n",
       "      <td>Offices</td>\n",
       "      <td>Sheikh Zayed</td>\n",
       "      <td>196 M²</td>\n",
       "      <td>11,657,000EGP</td>\n",
       "      <td>https://aqarmap.com.eg/en/listing/2840172-proj...</td>\n",
       "      <td>Zed Strip Mall:Zed Strip Mall Sheikh Zayed is ...</td>\n",
       "    </tr>\n",
       "  </tbody>\n",
       "</table>\n",
       "</div>"
      ],
      "text/plain": [
       "   Page                                              Title        Type  \\\n",
       "0     1                    Commercial For sale in Downtown  Commercial   \n",
       "1     1                    Apartment For sale in Nasr City  Apartments   \n",
       "2     1  Grave For sale in Other neighborhoods In New C...       Grave   \n",
       "3     1  Office for sale 120m in West Lane Mall - 6 Oct...     Offices   \n",
       "4     1  Office for sale 196m in Zed Strip Mall - Sheik...     Offices   \n",
       "\n",
       "                                            Location    Size          Price  \\\n",
       "0              الداون تاون, العاصمة الإدارية الجديدة   61 M²   5,066,656EGP   \n",
       "1                         الحديقة الدولية, مدينة نصر   70 M²     620,000EGP   \n",
       "2  مناطق فرعية بالقاهرة الجديدة, القاهرة الجديدة ...   40 M²     250,000EGP   \n",
       "3                                          6 October  120 M²   5,137,840EGP   \n",
       "4                                       Sheikh Zayed  196 M²  11,657,000EGP   \n",
       "\n",
       "                                               Links  \\\n",
       "0  https://aqarmap.com.eg/en/listing/3163597-for-...   \n",
       "1  https://aqarmap.com.eg/en/listing/3199492-for-...   \n",
       "2  https://aqarmap.com.eg/en/listing/3199404-for-...   \n",
       "3  https://aqarmap.com.eg/en/listing/2801136-proj...   \n",
       "4  https://aqarmap.com.eg/en/listing/2840172-proj...   \n",
       "\n",
       "                                         Description  \n",
       "0                    Commercial For sale in Downtown  \n",
       "1  Area: 70mFourth Floor2 bedrooms + 1 bathroomSu...  \n",
       "2  Grave For sale in Other neighborhoods In New C...  \n",
       "3  6th of October City is one of the new cities t...  \n",
       "4  Zed Strip Mall:Zed Strip Mall Sheikh Zayed is ...  "
      ]
     },
     "execution_count": 6,
     "metadata": {},
     "output_type": "execute_result"
    }
   ],
   "source": [
    "df.head()"
   ]
  },
  {
   "cell_type": "code",
   "execution_count": 7,
   "id": "6b0ba3d2",
   "metadata": {},
   "outputs": [],
   "source": [
    "csv = df.to_csv(r\"D:\\data science\\scraping_data\\aqar_map scraping\\aqar_map_scraping.csv\",index=False,header=True,encoding=\"utf8\")"
   ]
  },
  {
   "cell_type": "code",
   "execution_count": null,
   "id": "e7d2c592",
   "metadata": {},
   "outputs": [],
   "source": []
  }
 ],
 "metadata": {
  "kernelspec": {
   "display_name": "Python 3 (ipykernel)",
   "language": "python",
   "name": "python3"
  },
  "language_info": {
   "codemirror_mode": {
    "name": "ipython",
    "version": 3
   },
   "file_extension": ".py",
   "mimetype": "text/x-python",
   "name": "python",
   "nbconvert_exporter": "python",
   "pygments_lexer": "ipython3",
   "version": "3.9.7"
  }
 },
 "nbformat": 4,
 "nbformat_minor": 5
}

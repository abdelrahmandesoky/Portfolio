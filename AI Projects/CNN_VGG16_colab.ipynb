{
  "cells": [
    {
      "cell_type": "code",
      "source": [
        "\n",
        "! pip install kaggle\n",
        "#create a kaggle folder\n",
        "! mkdir ~/.kaggle\n",
        "#3. Copy the “kaggle.json” to folder created\n",
        "! cp kaggle.json ~/.kaggle/\n",
        "# Allocate the required permission for this file.\n",
        "! chmod 600 ~/.kaggle/kaggle.json\n",
        "# to list all datasets in kaggle\n",
        "! kaggle datasets list\n",
        "! kaggle competitions download -c dogs-vs-cats\n",
        "\n"
      ],
      "metadata": {
        "colab": {
          "base_uri": "https://localhost:8080/"
        },
        "id": "rvUalZefFo0y",
        "outputId": "7596fde8-b43e-451d-ec77-8487cc335114"
      },
      "id": "rvUalZefFo0y",
      "execution_count": 1,
      "outputs": [
        {
          "output_type": "stream",
          "name": "stdout",
          "text": [
            "Requirement already satisfied: kaggle in /usr/local/lib/python3.7/dist-packages (1.5.12)\n",
            "Requirement already satisfied: python-dateutil in /usr/local/lib/python3.7/dist-packages (from kaggle) (2.8.2)\n",
            "Requirement already satisfied: six>=1.10 in /usr/local/lib/python3.7/dist-packages (from kaggle) (1.15.0)\n",
            "Requirement already satisfied: python-slugify in /usr/local/lib/python3.7/dist-packages (from kaggle) (5.0.2)\n",
            "Requirement already satisfied: requests in /usr/local/lib/python3.7/dist-packages (from kaggle) (2.23.0)\n",
            "Requirement already satisfied: urllib3 in /usr/local/lib/python3.7/dist-packages (from kaggle) (1.24.3)\n",
            "Requirement already satisfied: tqdm in /usr/local/lib/python3.7/dist-packages (from kaggle) (4.62.3)\n",
            "Requirement already satisfied: certifi in /usr/local/lib/python3.7/dist-packages (from kaggle) (2021.10.8)\n",
            "Requirement already satisfied: text-unidecode>=1.3 in /usr/local/lib/python3.7/dist-packages (from python-slugify->kaggle) (1.3)\n",
            "Requirement already satisfied: chardet<4,>=3.0.2 in /usr/local/lib/python3.7/dist-packages (from requests->kaggle) (3.0.4)\n",
            "Requirement already satisfied: idna<3,>=2.5 in /usr/local/lib/python3.7/dist-packages (from requests->kaggle) (2.10)\n",
            "mkdir: cannot create directory ‘/root/.kaggle’: File exists\n",
            "Warning: Looks like you're using an outdated API Version, please consider updating (server 1.5.12 / client 1.5.4)\n",
            "ref                                                         title                                             size  lastUpdated          downloadCount  \n",
            "----------------------------------------------------------  -----------------------------------------------  -----  -------------------  -------------  \n",
            "prasertk/netflix-subscription-price-in-different-countries  Netflix subscription fee in different countries    3KB  2022-01-15 07:06:09           3190  \n",
            "nkitgupta/jigsaw-regression-based-data                      Jigsaw Regression Based Data                       3GB  2022-02-05 20:51:56            894  \n",
            "yasserh/wine-quality-dataset                                Wine Quality Dataset                              21KB  2022-01-15 19:15:11           3093  \n",
            "majyhain/height-of-male-and-female-by-country-2022          Height of Male and Female by Country 2022          4KB  2022-02-02 00:40:19            999  \n",
            "sanjeetsinghnaik/top-1000-highest-grossing-movies           Top 1000 Highest Grossing Movies                 106KB  2022-01-15 16:26:14           2032  \n",
            "yamqwe/air-traffic-passenger-datae                          🌁 Air Traffic Passenger Data                     173KB  2022-02-08 15:33:44            904  \n",
            "iamsouravbanerjee/analytics-industry-salaries-2022-india    Data Professionals Salary - 2022                  57KB  2022-02-04 09:04:46           3232  \n",
            "robikscube/ubiquant-parquet                                 Ubiquant Competition Data in Parquet Format       13GB  2022-01-19 14:18:59           1410  \n",
            "yamqwe/netflix-showse                                       Netflix Shows                                     11KB  2022-02-08 15:33:37           1747  \n",
            "georgesaavedra/covid19-dataset                              COVID-19 dataset                                   9MB  2022-02-11 16:14:49           1221  \n",
            "yamqwe/shark-tank-companiese                                📱 Shark Tank Companies                            70KB  2022-02-08 15:35:24            741  \n",
            "dansbecker/melbourne-housing-snapshot                       Melbourne Housing Snapshot                       451KB  2018-06-05 12:52:24          80592  \n",
            "datasnaek/youtube-new                                       Trending YouTube Video Statistics                201MB  2019-06-03 00:56:47         165682  \n",
            "maricinnamon/harry-potter-movies-dataset                    Harry Potter Movies Dataset                      211KB  2022-01-14 10:13:19            721  \n",
            "vivovinco/nba-player-stats                                  2021-2022 NBA Player Stats                        29KB  2022-01-22 14:53:22            787  \n",
            "kenjee/ken-jee-youtube-data                                 Ken Jee YouTube Data                               6MB  2022-01-22 20:38:53            227  \n",
            "zynicide/wine-reviews                                       Wine Reviews                                      51MB  2017-11-27 17:08:04         154149  \n",
            "residentmario/ramen-ratings                                 Ramen Ratings                                     40KB  2018-01-11 16:04:39          32439  \n",
            "datasnaek/chess                                             Chess Game Dataset (Lichess)                       3MB  2017-09-04 03:09:09          27609  \n",
            "rtatman/188-million-us-wildfires                            1.88 Million US Wildfires                        168MB  2020-05-12 21:03:49          18873  \n",
            "Warning: Looks like you're using an outdated API Version, please consider updating (server 1.5.12 / client 1.5.4)\n",
            "train.zip: Skipping, found more recently modified local copy (use --force to force download)\n",
            "test1.zip: Skipping, found more recently modified local copy (use --force to force download)\n",
            "sampleSubmission.csv: Skipping, found more recently modified local copy (use --force to force download)\n"
          ]
        }
      ]
    },
    {
      "cell_type": "code",
      "source": [
        "!unzip train.zip"
      ],
      "metadata": {
        "colab": {
          "base_uri": "https://localhost:8080/"
        },
        "id": "zhN1BGVoHZma",
        "outputId": "5f66579f-7f12-424a-c000-7d5900d454f1"
      },
      "id": "zhN1BGVoHZma",
      "execution_count": 2,
      "outputs": [
        {
          "output_type": "stream",
          "name": "stdout",
          "text": [
            "Archive:  train.zip\n",
            "replace train/cat.0.jpg? [y]es, [n]o, [A]ll, [N]one, [r]ename: "
          ]
        }
      ]
    },
    {
      "cell_type": "code",
      "execution_count": 20,
      "id": "b68a8f10",
      "metadata": {
        "id": "b68a8f10"
      },
      "outputs": [],
      "source": [
        "import numpy as np\n",
        "import tensorflow as tf\n",
        "from tensorflow import keras\n",
        "from tensorflow.keras.applications.vgg16 import VGG16\n",
        "from tensorflow.keras.models import Sequential,Model\n",
        "from tensorflow.keras.layers import Activation, Dense, Flatten, Conv2D, MaxPool2D\n",
        "from tensorflow.keras.optimizers import RMSprop\n",
        "from tensorflow.keras.metrics import categorical_crossentropy\n",
        "from tensorflow.keras.preprocessing.image import ImageDataGenerator\n",
        "import os\n",
        "import shutil\n",
        "import random\n",
        "import glob\n",
        "import matplotlib.pyplot as plt\n",
        "from keras.callbacks import EarlyStopping\n",
        "from keras.preprocessing import image "
      ]
    },
    {
      "cell_type": "code",
      "execution_count": 2,
      "id": "bbb8dbd4",
      "metadata": {
        "id": "bbb8dbd4"
      },
      "outputs": [],
      "source": [
        "os.chdir('/content/train')\n",
        "if os.path.isdir('train/dog') is False:\n",
        "    os.makedirs('train/dog')\n",
        "    os.makedirs('train/cat')\n",
        "    os.makedirs('valid/dog')\n",
        "    os.makedirs('valid/cat')\n",
        "    os.makedirs('test/dog')\n",
        "    os.makedirs('test/cat')\n",
        "for i in random.sample(glob.glob('cat*'),1000):\n",
        "    shutil.move(i,'train/cat')\n",
        "for i in random.sample(glob.glob('dog*'),1000):\n",
        "    shutil.move(i,'train/dog')\n",
        "\n",
        "for i in random.sample(glob.glob('cat*'),200):\n",
        "    shutil.move(i,'valid/cat')\n",
        "for i in random.sample(glob.glob('dog*'),200):\n",
        "    shutil.move(i,'valid/dog')\n",
        "\n",
        "for i in random.sample(glob.glob('cat*'),100):\n",
        "    shutil.move(i,'test/cat')\n",
        "for i in random.sample(glob.glob('dog*'),100):\n",
        "    shutil.move(i,'test/dog')    "
      ]
    },
    {
      "cell_type": "code",
      "execution_count": 3,
      "id": "8ffcf184",
      "metadata": {
        "id": "8ffcf184"
      },
      "outputs": [],
      "source": [
        "train_path='/content/train/train'\n",
        "valid_path='/content/train/test'\n",
        "test_path ='/content/train/valid'"
      ]
    },
    {
      "cell_type": "code",
      "execution_count": 4,
      "id": "bae0c086",
      "metadata": {
        "colab": {
          "base_uri": "https://localhost:8080/"
        },
        "id": "bae0c086",
        "outputId": "465cdd53-420e-45b4-bf43-9f13907c1d0a"
      },
      "outputs": [
        {
          "output_type": "stream",
          "name": "stdout",
          "text": [
            "Found 6000 images belonging to 2 classes.\n",
            "Found 600 images belonging to 2 classes.\n",
            "Found 1200 images belonging to 2 classes.\n"
          ]
        }
      ],
      "source": [
        "train_batches = ImageDataGenerator(preprocessing_function=tf.keras.applications.vgg16.preprocess_input) \\\n",
        "    .flow_from_directory(directory=train_path, target_size=(224,224), classes=['cat', 'dog'], batch_size=10)\n",
        "\n",
        "valid_batches = ImageDataGenerator(preprocessing_function=tf.keras.applications.vgg16.preprocess_input) \\\n",
        "    .flow_from_directory(directory=valid_path, target_size=(224,224), classes=['cat', 'dog'], batch_size=10)\n",
        "\n",
        "test_batches = ImageDataGenerator(preprocessing_function=tf.keras.applications.vgg16.preprocess_input) \\\n",
        "    .flow_from_directory(directory=test_path, target_size=(224,224), classes=['cat', 'dog'], batch_size=10, shuffle=False)"
      ]
    },
    {
      "cell_type": "code",
      "execution_count": 5,
      "id": "a649140b",
      "metadata": {
        "id": "a649140b"
      },
      "outputs": [],
      "source": [
        "vgg16_model=keras.applications.vgg16.VGG16()"
      ]
    },
    {
      "cell_type": "code",
      "execution_count": 6,
      "id": "d1d77595",
      "metadata": {
        "colab": {
          "base_uri": "https://localhost:8080/"
        },
        "id": "d1d77595",
        "outputId": "ca8d0ab1-47fe-4279-f5cc-23d64b49c840"
      },
      "outputs": [
        {
          "output_type": "stream",
          "name": "stdout",
          "text": [
            "Model: \"vgg16\"\n",
            "_________________________________________________________________\n",
            " Layer (type)                Output Shape              Param #   \n",
            "=================================================================\n",
            " input_1 (InputLayer)        [(None, 224, 224, 3)]     0         \n",
            "                                                                 \n",
            " block1_conv1 (Conv2D)       (None, 224, 224, 64)      1792      \n",
            "                                                                 \n",
            " block1_conv2 (Conv2D)       (None, 224, 224, 64)      36928     \n",
            "                                                                 \n",
            " block1_pool (MaxPooling2D)  (None, 112, 112, 64)      0         \n",
            "                                                                 \n",
            " block2_conv1 (Conv2D)       (None, 112, 112, 128)     73856     \n",
            "                                                                 \n",
            " block2_conv2 (Conv2D)       (None, 112, 112, 128)     147584    \n",
            "                                                                 \n",
            " block2_pool (MaxPooling2D)  (None, 56, 56, 128)       0         \n",
            "                                                                 \n",
            " block3_conv1 (Conv2D)       (None, 56, 56, 256)       295168    \n",
            "                                                                 \n",
            " block3_conv2 (Conv2D)       (None, 56, 56, 256)       590080    \n",
            "                                                                 \n",
            " block3_conv3 (Conv2D)       (None, 56, 56, 256)       590080    \n",
            "                                                                 \n",
            " block3_pool (MaxPooling2D)  (None, 28, 28, 256)       0         \n",
            "                                                                 \n",
            " block4_conv1 (Conv2D)       (None, 28, 28, 512)       1180160   \n",
            "                                                                 \n",
            " block4_conv2 (Conv2D)       (None, 28, 28, 512)       2359808   \n",
            "                                                                 \n",
            " block4_conv3 (Conv2D)       (None, 28, 28, 512)       2359808   \n",
            "                                                                 \n",
            " block4_pool (MaxPooling2D)  (None, 14, 14, 512)       0         \n",
            "                                                                 \n",
            " block5_conv1 (Conv2D)       (None, 14, 14, 512)       2359808   \n",
            "                                                                 \n",
            " block5_conv2 (Conv2D)       (None, 14, 14, 512)       2359808   \n",
            "                                                                 \n",
            " block5_conv3 (Conv2D)       (None, 14, 14, 512)       2359808   \n",
            "                                                                 \n",
            " block5_pool (MaxPooling2D)  (None, 7, 7, 512)         0         \n",
            "                                                                 \n",
            " flatten (Flatten)           (None, 25088)             0         \n",
            "                                                                 \n",
            " fc1 (Dense)                 (None, 4096)              102764544 \n",
            "                                                                 \n",
            " fc2 (Dense)                 (None, 4096)              16781312  \n",
            "                                                                 \n",
            " predictions (Dense)         (None, 1000)              4097000   \n",
            "                                                                 \n",
            "=================================================================\n",
            "Total params: 138,357,544\n",
            "Trainable params: 138,357,544\n",
            "Non-trainable params: 0\n",
            "_________________________________________________________________\n"
          ]
        }
      ],
      "source": [
        "vgg16_model.summary()"
      ]
    },
    {
      "cell_type": "code",
      "execution_count": 8,
      "id": "5f9007de",
      "metadata": {
        "colab": {
          "base_uri": "https://localhost:8080/"
        },
        "id": "5f9007de",
        "outputId": "5c4525e4-4da7-495d-9b7c-c09a90e3cd53"
      },
      "outputs": [
        {
          "output_type": "execute_result",
          "data": {
            "text/plain": [
              "<keras.layers.core.dense.Dense at 0x7f07e7e2b9d0>"
            ]
          },
          "metadata": {},
          "execution_count": 8
        }
      ],
      "source": [
        "vgg16_model.layers.pop()"
      ]
    },
    {
      "cell_type": "code",
      "execution_count": 9,
      "id": "28e465af",
      "metadata": {
        "id": "28e465af"
      },
      "outputs": [],
      "source": [
        "for layer in vgg16_model.layers:\n",
        "    layer.trainable=False"
      ]
    },
    {
      "cell_type": "code",
      "execution_count": 10,
      "id": "55e87ba6",
      "metadata": {
        "colab": {
          "base_uri": "https://localhost:8080/"
        },
        "id": "55e87ba6",
        "outputId": "63bb32f9-d690-47ab-9ddc-6675fd80870b"
      },
      "outputs": [
        {
          "output_type": "stream",
          "name": "stdout",
          "text": [
            "Model: \"model\"\n",
            "_________________________________________________________________\n",
            " Layer (type)                Output Shape              Param #   \n",
            "=================================================================\n",
            " input_1 (InputLayer)        [(None, 224, 224, 3)]     0         \n",
            "                                                                 \n",
            " block1_conv1 (Conv2D)       (None, 224, 224, 64)      1792      \n",
            "                                                                 \n",
            " block1_conv2 (Conv2D)       (None, 224, 224, 64)      36928     \n",
            "                                                                 \n",
            " block1_pool (MaxPooling2D)  (None, 112, 112, 64)      0         \n",
            "                                                                 \n",
            " block2_conv1 (Conv2D)       (None, 112, 112, 128)     73856     \n",
            "                                                                 \n",
            " block2_conv2 (Conv2D)       (None, 112, 112, 128)     147584    \n",
            "                                                                 \n",
            " block2_pool (MaxPooling2D)  (None, 56, 56, 128)       0         \n",
            "                                                                 \n",
            " block3_conv1 (Conv2D)       (None, 56, 56, 256)       295168    \n",
            "                                                                 \n",
            " block3_conv2 (Conv2D)       (None, 56, 56, 256)       590080    \n",
            "                                                                 \n",
            " block3_conv3 (Conv2D)       (None, 56, 56, 256)       590080    \n",
            "                                                                 \n",
            " block3_pool (MaxPooling2D)  (None, 28, 28, 256)       0         \n",
            "                                                                 \n",
            " block4_conv1 (Conv2D)       (None, 28, 28, 512)       1180160   \n",
            "                                                                 \n",
            " block4_conv2 (Conv2D)       (None, 28, 28, 512)       2359808   \n",
            "                                                                 \n",
            " block4_conv3 (Conv2D)       (None, 28, 28, 512)       2359808   \n",
            "                                                                 \n",
            " block4_pool (MaxPooling2D)  (None, 14, 14, 512)       0         \n",
            "                                                                 \n",
            " block5_conv1 (Conv2D)       (None, 14, 14, 512)       2359808   \n",
            "                                                                 \n",
            " block5_conv2 (Conv2D)       (None, 14, 14, 512)       2359808   \n",
            "                                                                 \n",
            " block5_conv3 (Conv2D)       (None, 14, 14, 512)       2359808   \n",
            "                                                                 \n",
            " block5_pool (MaxPooling2D)  (None, 7, 7, 512)         0         \n",
            "                                                                 \n",
            " flatten (Flatten)           (None, 25088)             0         \n",
            "                                                                 \n",
            " fc1 (Dense)                 (None, 4096)              102764544 \n",
            "                                                                 \n",
            " fc2 (Dense)                 (None, 4096)              16781312  \n",
            "                                                                 \n",
            " dense (Dense)               (None, 2)                 8194      \n",
            "                                                                 \n",
            "=================================================================\n",
            "Total params: 134,268,738\n",
            "Trainable params: 8,194\n",
            "Non-trainable params: 134,260,544\n",
            "_________________________________________________________________\n"
          ]
        }
      ],
      "source": [
        "#model=Sequential()\n",
        "#model.add(vgg16_model)\n",
        "#model.add(Dense(2,activation='softmax'))\n",
        "#model.summary()\n",
        "predictions = Dense(2, activation = \"softmax\")(vgg16_model.layers[-2].output)\n",
        "model = Model(inputs=vgg16_model.input, outputs=predictions)\n",
        "model.summary()"
      ]
    },
    {
      "cell_type": "code",
      "execution_count": 11,
      "id": "ebc0b93d",
      "metadata": {
        "id": "ebc0b93d"
      },
      "outputs": [],
      "source": [
        "model.compile(optimizer=\"RMSprop\",loss=\"categorical_crossentropy\",metrics =\"accuracy\")"
      ]
    },
    {
      "cell_type": "code",
      "execution_count": 12,
      "id": "561bc9e6",
      "metadata": {
        "colab": {
          "base_uri": "https://localhost:8080/"
        },
        "id": "561bc9e6",
        "outputId": "5a4cb12f-8510-47df-e664-7db4e6684602"
      },
      "outputs": [
        {
          "output_type": "stream",
          "name": "stdout",
          "text": [
            "Epoch 1/10\n",
            "600/600 [==============================] - 49s 71ms/step - loss: 0.1056 - accuracy: 0.9753 - val_loss: 0.3941 - val_accuracy: 0.9000\n",
            "Epoch 2/10\n",
            "600/600 [==============================] - 37s 62ms/step - loss: 0.0614 - accuracy: 0.9855 - val_loss: 1.7881e-06 - val_accuracy: 1.0000\n",
            "Epoch 3/10\n",
            "600/600 [==============================] - 40s 66ms/step - loss: 0.0444 - accuracy: 0.9895 - val_loss: 3.9401e-04 - val_accuracy: 1.0000\n",
            "Epoch 4/10\n",
            "600/600 [==============================] - 38s 63ms/step - loss: 0.0313 - accuracy: 0.9925 - val_loss: 0.0045 - val_accuracy: 1.0000\n",
            "Epoch 5/10\n",
            "600/600 [==============================] - 37s 61ms/step - loss: 0.0174 - accuracy: 0.9945 - val_loss: 0.0000e+00 - val_accuracy: 1.0000\n",
            "Epoch 6/10\n",
            "600/600 [==============================] - 38s 63ms/step - loss: 0.0128 - accuracy: 0.9963 - val_loss: 1.9286e-05 - val_accuracy: 1.0000\n",
            "Epoch 7/10\n",
            "600/600 [==============================] - 37s 61ms/step - loss: 0.0092 - accuracy: 0.9975 - val_loss: 0.0000e+00 - val_accuracy: 1.0000\n",
            "Epoch 8/10\n",
            "600/600 [==============================] - 37s 61ms/step - loss: 0.0088 - accuracy: 0.9977 - val_loss: 1.6998e-05 - val_accuracy: 1.0000\n",
            "Epoch 9/10\n",
            "600/600 [==============================] - 37s 61ms/step - loss: 0.0062 - accuracy: 0.9987 - val_loss: 1.1921e-08 - val_accuracy: 1.0000\n",
            "Epoch 10/10\n",
            "600/600 [==============================] - 37s 61ms/step - loss: 0.0040 - accuracy: 0.9988 - val_loss: 0.0000e+00 - val_accuracy: 1.0000\n"
          ]
        }
      ],
      "source": [
        "results=model.fit( train_batches,\n",
        "          epochs=10,\n",
        "          validation_data=valid_batches,\n",
        "          validation_steps=1,\n",
        "          callbacks = [EarlyStopping(monitor = 'accuracy', patience = 5)]\n",
        "         )"
      ]
    },
    {
      "cell_type": "code",
      "source": [
        "import matplotlib.pyplot as plt\n",
        "plt.plot(results.history['loss'])\n",
        "plt.plot(results.history['val_loss'])\n",
        "plt.xlabel('epoch')\n",
        "plt.legend(['Training','Validation'])\n",
        "plt.title('Training and Validation loss')"
      ],
      "metadata": {
        "colab": {
          "base_uri": "https://localhost:8080/",
          "height": 312
        },
        "id": "6canopIMKrfu",
        "outputId": "d6378f12-bb92-452c-aef3-85d2f30b804c"
      },
      "id": "6canopIMKrfu",
      "execution_count": 13,
      "outputs": [
        {
          "output_type": "execute_result",
          "data": {
            "text/plain": [
              "Text(0.5, 1.0, 'Training and Validation loss')"
            ]
          },
          "metadata": {},
          "execution_count": 13
        },
        {
          "output_type": "display_data",
          "data": {
            "image/png": "[encoded data removed]",
            "text/plain": [
              "<Figure size 432x288 with 1 Axes>"
            ]
          },
          "metadata": {
            "needs_background": "light"
          }
        }
      ]
    },
    {
      "cell_type": "code",
      "execution_count": 14,
      "id": "cbe457b8",
      "metadata": {
        "colab": {
          "base_uri": "https://localhost:8080/",
          "height": 312
        },
        "id": "cbe457b8",
        "outputId": "77703f02-18d2-472e-b004-62072a6f7be9"
      },
      "outputs": [
        {
          "output_type": "execute_result",
          "data": {
            "text/plain": [
              "Text(0.5, 1.0, 'Training and Validation accuracy')"
            ]
          },
          "metadata": {},
          "execution_count": 14
        },
        {
          "output_type": "display_data",
          "data": {
            "image/png": "[encoded data removed]",
            "text/plain": [
              "<Figure size 432x288 with 1 Axes>"
            ]
          },
          "metadata": {
            "needs_background": "light"
          }
        }
      ],
      "source": [
        "plt.plot(results.history['accuracy'])\n",
        "plt.plot(results.history['val_accuracy'])\n",
        "plt.xlabel('epoch')\n",
        "plt.legend(['Training','Validation'])\n",
        "plt.title('Training and Validation accuracy')"
      ]
    },
    {
      "cell_type": "code",
      "source": [
        "test_loss,test_acc=model.evaluate(test_batches)\n",
        "print('test_loss:{}  test_accuarcy{}'.format(test_loss,test_acc))"
      ],
      "metadata": {
        "colab": {
          "base_uri": "https://localhost:8080/"
        },
        "id": "YVR7R033NO1k",
        "outputId": "e5b8cfb1-44b6-49fe-d04e-d9bff5488842"
      },
      "id": "YVR7R033NO1k",
      "execution_count": 15,
      "outputs": [
        {
          "output_type": "stream",
          "name": "stdout",
          "text": [
            "120/120 [==============================] - 9s 73ms/step - loss: 0.1736 - accuracy: 0.9800\n",
            "test_loss:0.17355142533779144  test_accuarcy0.9800000190734863\n"
          ]
        }
      ]
    },
    {
      "cell_type": "code",
      "source": [
        "print(test_batches[0])\n",
        "pred=model.predict(test_batches[0])\n",
        "print(pred[0])\n",
        "\n",
        " "
      ],
      "metadata": {
        "colab": {
          "base_uri": "https://localhost:8080/"
        },
        "id": "zDlmePlVOHcR",
        "outputId": "5fbea267-92ae-4c2a-dc30-4b9f3307e4f8"
      },
      "id": "zDlmePlVOHcR",
      "execution_count": 26,
      "outputs": [
        {
          "output_type": "stream",
          "name": "stdout",
          "text": [
            "[1.0000000e+00 3.0498043e-31]\n"
          ]
        }
      ]
    }
  ],
  "metadata": {
    "kernelspec": {
      "display_name": "Python 3 (ipykernel)",
      "language": "python",
      "name": "python3"
    },
    "language_info": {
      "codemirror_mode": {
        "name": "ipython",
        "version": 3
      },
      "file_extension": ".py",
      "mimetype": "text/x-python",
      "name": "python",
      "nbconvert_exporter": "python",
      "pygments_lexer": "ipython3",
      "version": "3.9.7"
    },
    "colab": {
      "name": "CNN_VGG16_colab.ipynb",
      "provenance": []
    },
    "accelerator": "GPU"
  },
  "nbformat": 4,
  "nbformat_minor": 5
}
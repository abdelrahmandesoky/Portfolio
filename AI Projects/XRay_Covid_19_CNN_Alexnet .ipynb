{
  "cells": [
    {
      "cell_type": "code",
      "execution_count": null,
      "metadata": {
        "id": "1NVJdGK7o4m_"
      },
      "outputs": [],
      "source": [
        "!wget https://www.dropbox.com/s/7rjw6oet4za01op/CovidDataset-20200427T133042Z-001.zip?dl=0"
      ]
    },
    {
      "cell_type": "code",
      "execution_count": null,
      "metadata": {
        "id": "5yTdn7Cppiey"
      },
      "outputs": [],
      "source": [
        "!unzip CovidDataset-20200427T133042Z-001.zip\\?dl\\=0"
      ]
    },
    {
      "cell_type": "code",
      "execution_count": 3,
      "metadata": {
        "id": "AatQ5Vf8rpvG"
      },
      "outputs": [],
      "source": [
        "import keras \n",
        "from keras.preprocessing import image \n",
        "from keras.models import Sequential\n",
        "from keras.layers import Dense, Dropout, Flatten\n",
        "from keras.layers import Conv2D, MaxPooling2D\n",
        "from keras.callbacks import EarlyStopping"
      ]
    },
    {
      "cell_type": "code",
      "execution_count": 4,
      "metadata": {
        "colab": {
          "base_uri": "https://localhost:8080/"
        },
        "id": "gi_rXdJ_tZbX",
        "outputId": "bcbffa99-ba1a-4376-fe6c-2d37e3edc92d"
      },
      "outputs": [
        {
          "output_type": "stream",
          "name": "stdout",
          "text": [
            "Found 224 images belonging to 2 classes.\n",
            "Found 60 images belonging to 2 classes.\n"
          ]
        }
      ],
      "source": [
        "from keras.preprocessing.image import ImageDataGenerator\n",
        "import os\n",
        "main_dir = \"/content/CovidDataset\"\n",
        "train_data = ImageDataGenerator(\n",
        "    rescale=1./255,\n",
        "    shear_range=0.2,\n",
        "    zoom_range=0.2,\n",
        "    horizontal_flip=True)\n",
        "\n",
        "test_data = ImageDataGenerator(rescale=1./255)\n",
        "\n",
        "train_dir = os.path.join(main_dir, \"Train\")\n",
        "training_set = train_data.flow_from_directory(\n",
        "    train_dir,\n",
        "    target_size=(224, 224),\n",
        "    batch_size=32,\n",
        "    class_mode='categorical'\n",
        ")\n",
        "test_dir = os.path.join(main_dir, \"Val\")\n",
        "test_set = test_data.flow_from_directory(\n",
        "    test_dir,\n",
        "    target_size=(224, 224),\n",
        "    batch_size=32,\n",
        "    class_mode='categorical'\n",
        "\n",
        ")\n"
      ]
    },
    {
      "cell_type": "code",
      "execution_count": 5,
      "metadata": {
        "id": "XSdASGxWwH-t"
      },
      "outputs": [],
      "source": [
        "model=Sequential()\n",
        "\n",
        "model.add(Conv2D(96,kernel_size=(11,11),strides=4,activation='relu',input_shape=(224,224,3)))\n",
        "model.add(MaxPooling2D(pool_size=(3,3),strides=2))\n",
        "\n",
        "model.add(Conv2D(256,kernel_size=(5,5),strides=1,padding='SAME',activation='relu'))\n",
        "model.add(MaxPooling2D(pool_size=(3,3),strides=2))\n",
        "\n",
        "model.add(Conv2D(384,kernel_size=(3,3),strides=1,padding='SAME',activation='relu'))\n",
        "model.add(Conv2D(384,kernel_size=(3,3),strides=1,padding='SAME',activation='relu'))\n",
        "model.add(Conv2D(256,kernel_size=(3,3),strides=1,padding='SAME',activation='relu'))\n",
        "\n",
        "model.add(MaxPooling2D(pool_size=(3,3),strides=2))\n",
        "\n",
        "model.add(Dropout(0.5))\n",
        "model.add(Flatten())\n",
        "\n",
        "model.add(Dense(128,activation='relu'))\n",
        "model.add(Dropout(0.5))\n",
        "model.add(Dense(256,activation='relu'))\n",
        "model.add(Dense(2,activation='softmax'))\n"
      ]
    },
    {
      "cell_type": "code",
      "execution_count": 6,
      "metadata": {
        "colab": {
          "base_uri": "https://localhost:8080/"
        },
        "id": "pOTzVliRDo0p",
        "outputId": "4c6f4529-6477-4617-b115-bbba8788ef38"
      },
      "outputs": [
        {
          "output_type": "stream",
          "name": "stdout",
          "text": [
            "Model: \"sequential\"\n",
            "_________________________________________________________________\n",
            " Layer (type)                Output Shape              Param #   \n",
            "=================================================================\n",
            " conv2d (Conv2D)             (None, 54, 54, 96)        34944     \n",
            "                                                                 \n",
            " max_pooling2d (MaxPooling2D  (None, 26, 26, 96)       0         \n",
            " )                                                               \n",
            "                                                                 \n",
            " conv2d_1 (Conv2D)           (None, 26, 26, 256)       614656    \n",
            "                                                                 \n",
            " max_pooling2d_1 (MaxPooling  (None, 12, 12, 256)      0         \n",
            " 2D)                                                             \n",
            "                                                                 \n",
            " conv2d_2 (Conv2D)           (None, 12, 12, 384)       885120    \n",
            "                                                                 \n",
            " conv2d_3 (Conv2D)           (None, 12, 12, 384)       1327488   \n",
            "                                                                 \n",
            " conv2d_4 (Conv2D)           (None, 12, 12, 256)       884992    \n",
            "                                                                 \n",
            " max_pooling2d_2 (MaxPooling  (None, 5, 5, 256)        0         \n",
            " 2D)                                                             \n",
            "                                                                 \n",
            " dropout (Dropout)           (None, 5, 5, 256)         0         \n",
            "                                                                 \n",
            " flatten (Flatten)           (None, 6400)              0         \n",
            "                                                                 \n",
            " dense (Dense)               (None, 128)               819328    \n",
            "                                                                 \n",
            " dropout_1 (Dropout)         (None, 128)               0         \n",
            "                                                                 \n",
            " dense_1 (Dense)             (None, 256)               33024     \n",
            "                                                                 \n",
            " dense_2 (Dense)             (None, 2)                 514       \n",
            "                                                                 \n",
            "=================================================================\n",
            "Total params: 4,600,066\n",
            "Trainable params: 4,600,066\n",
            "Non-trainable params: 0\n",
            "_________________________________________________________________\n"
          ]
        }
      ],
      "source": [
        "model.compile(loss=keras.losses.categorical_crossentropy, optimizer=\"adam\", metrics=['accuracy'])\n",
        "model.summary()"
      ]
    },
    {
      "cell_type": "code",
      "execution_count": 7,
      "metadata": {
        "colab": {
          "base_uri": "https://localhost:8080/"
        },
        "id": "48HgX9SqC_T3",
        "outputId": "2412bdc4-9a0f-4b4f-ef68-9c99ba1d7fd4"
      },
      "outputs": [
        {
          "output_type": "stream",
          "name": "stderr",
          "text": [
            "/usr/local/lib/python3.7/dist-packages/ipykernel_launcher.py:6: UserWarning: `Model.fit_generator` is deprecated and will be removed in a future version. Please use `Model.fit`, which supports generators.\n",
            "  \n"
          ]
        },
        {
          "output_type": "stream",
          "name": "stdout",
          "text": [
            "Epoch 1/20\n",
            "7/7 [==============================] - 19s 1s/step - loss: 0.7636 - accuracy: 0.4554 - val_loss: 0.6927 - val_accuracy: 0.6875\n",
            "Epoch 2/20\n",
            "7/7 [==============================] - 9s 1s/step - loss: 0.6948 - accuracy: 0.4598 - val_loss: 0.6910 - val_accuracy: 0.6250\n",
            "Epoch 3/20\n",
            "7/7 [==============================] - 9s 1s/step - loss: 0.6936 - accuracy: 0.4732 - val_loss: 0.6933 - val_accuracy: 0.4062\n",
            "Epoch 4/20\n",
            "7/7 [==============================] - 9s 1s/step - loss: 0.6935 - accuracy: 0.4866 - val_loss: 0.6921 - val_accuracy: 0.5625\n",
            "Epoch 5/20\n",
            "7/7 [==============================] - 10s 2s/step - loss: 0.6934 - accuracy: 0.5089 - val_loss: 0.6763 - val_accuracy: 0.5625\n",
            "Epoch 6/20\n",
            "7/7 [==============================] - 9s 1s/step - loss: 0.6878 - accuracy: 0.5536 - val_loss: 0.6363 - val_accuracy: 0.5938\n",
            "Epoch 7/20\n",
            "7/7 [==============================] - 9s 1s/step - loss: 0.7044 - accuracy: 0.6161 - val_loss: 0.6842 - val_accuracy: 0.6250\n",
            "Epoch 8/20\n",
            "7/7 [==============================] - 9s 1s/step - loss: 0.6888 - accuracy: 0.5268 - val_loss: 0.6869 - val_accuracy: 0.5000\n",
            "Epoch 9/20\n",
            "7/7 [==============================] - 9s 1s/step - loss: 0.6729 - accuracy: 0.5938 - val_loss: 0.6360 - val_accuracy: 0.7812\n",
            "Epoch 10/20\n",
            "7/7 [==============================] - 9s 1s/step - loss: 0.6216 - accuracy: 0.7188 - val_loss: 0.4720 - val_accuracy: 0.9062\n",
            "Epoch 11/20\n",
            "7/7 [==============================] - 9s 1s/step - loss: 0.5672 - accuracy: 0.7946 - val_loss: 0.3207 - val_accuracy: 0.9062\n",
            "Epoch 12/20\n",
            "7/7 [==============================] - 9s 1s/step - loss: 0.5159 - accuracy: 0.8036 - val_loss: 0.1457 - val_accuracy: 0.9375\n",
            "Epoch 13/20\n",
            "7/7 [==============================] - 9s 1s/step - loss: 0.4946 - accuracy: 0.7946 - val_loss: 0.2384 - val_accuracy: 0.9375\n",
            "Epoch 14/20\n",
            "7/7 [==============================] - 9s 1s/step - loss: 0.3094 - accuracy: 0.8795 - val_loss: 0.3674 - val_accuracy: 0.8750\n",
            "Epoch 15/20\n",
            "7/7 [==============================] - 9s 1s/step - loss: 0.2892 - accuracy: 0.9062 - val_loss: 0.1202 - val_accuracy: 0.9375\n",
            "Epoch 16/20\n",
            "7/7 [==============================] - 9s 1s/step - loss: 0.3420 - accuracy: 0.8616 - val_loss: 0.1342 - val_accuracy: 0.9688\n",
            "Epoch 17/20\n",
            "7/7 [==============================] - 9s 1s/step - loss: 0.3104 - accuracy: 0.9152 - val_loss: 0.1581 - val_accuracy: 0.9688\n",
            "Epoch 18/20\n",
            "7/7 [==============================] - 9s 1s/step - loss: 0.2072 - accuracy: 0.9107 - val_loss: 0.2744 - val_accuracy: 0.9375\n",
            "Epoch 19/20\n",
            "7/7 [==============================] - 9s 1s/step - loss: 0.2168 - accuracy: 0.9286 - val_loss: 0.1078 - val_accuracy: 0.9688\n",
            "Epoch 20/20\n",
            "7/7 [==============================] - 9s 1s/step - loss: 0.2851 - accuracy: 0.9062 - val_loss: 0.2880 - val_accuracy: 0.9375\n"
          ]
        }
      ],
      "source": [
        "results=model.fit_generator(\n",
        "    training_set,\n",
        "    epochs=20,\n",
        "    validation_data=test_set,\n",
        "    validation_steps=1,\n",
        "    callbacks = [EarlyStopping(monitor = 'val_accuracy', patience = 20)]\n",
        ")"
      ]
    },
    {
      "cell_type": "code",
      "execution_count": 8,
      "metadata": {
        "colab": {
          "base_uri": "https://localhost:8080/"
        },
        "id": "EiM6hJCuHq5x",
        "outputId": "01f19e25-7e9e-4d65-c7e0-36e2683957d8"
      },
      "outputs": [
        {
          "output_type": "execute_result",
          "data": {
            "text/plain": [
              "dict_keys(['loss', 'accuracy', 'val_loss', 'val_accuracy'])"
            ]
          },
          "metadata": {},
          "execution_count": 8
        }
      ],
      "source": [
        "results.history.keys()"
      ]
    },
    {
      "cell_type": "code",
      "execution_count": 9,
      "metadata": {
        "id": "XLZwwdT_IANm",
        "colab": {
          "base_uri": "https://localhost:8080/",
          "height": 312
        },
        "outputId": "32d1ecfa-c124-4e54-90e4-7ddd9422eca0"
      },
      "outputs": [
        {
          "output_type": "execute_result",
          "data": {
            "text/plain": [
              "Text(0.5, 1.0, 'Training and Validation loss')"
            ]
          },
          "metadata": {},
          "execution_count": 9
        },
        {
          "output_type": "display_data",
          "data": {
            "image/png": "[encoded data removed]",
            "text/plain": [
              "<Figure size 432x288 with 1 Axes>"
            ]
          },
          "metadata": {
            "needs_background": "light"
          }
        }
      ],
      "source": [
        "import matplotlib.pyplot as plt\n",
        "plt.plot(results.history['loss'])\n",
        "plt.plot(results.history['val_loss'])\n",
        "plt.xlabel('epoch')\n",
        "plt.legend(['Training','Validation'])\n",
        "plt.title('Training and Validation loss')"
      ]
    },
    {
      "cell_type": "code",
      "execution_count": 10,
      "metadata": {
        "colab": {
          "base_uri": "https://localhost:8080/",
          "height": 312
        },
        "id": "kj1XwlxUJNqu",
        "outputId": "d9af52d2-9d2e-482b-a566-4e3d94de934d"
      },
      "outputs": [
        {
          "output_type": "execute_result",
          "data": {
            "text/plain": [
              "Text(0.5, 1.0, 'Training and Validation accuracy')"
            ]
          },
          "metadata": {},
          "execution_count": 10
        },
        {
          "output_type": "display_data",
          "data": {
            "image/png": "[encoded data removed]",
            "text/plain": [
              "<Figure size 432x288 with 1 Axes>"
            ]
          },
          "metadata": {
            "needs_background": "light"
          }
        }
      ],
      "source": [
        "plt.plot(results.history['accuracy'])\n",
        "plt.plot(results.history['val_accuracy'])\n",
        "plt.xlabel('epoch')\n",
        "plt.legend(['Training','Validation'])\n",
        "plt.title('Training and Validation accuracy')"
      ]
    },
    {
      "cell_type": "code",
      "execution_count": 11,
      "metadata": {
        "colab": {
          "base_uri": "https://localhost:8080/"
        },
        "id": "CxFcXtcBJ3En",
        "outputId": "36f35da0-6aa6-40ad-db03-7354af168139"
      },
      "outputs": [
        {
          "output_type": "stream",
          "name": "stdout",
          "text": [
            "2/2 [==============================] - 2s 2s/step - loss: 0.1954 - accuracy: 0.9667\n",
            "test loss :0.19544315338134766   test accuracy :0.9666666388511658\n"
          ]
        }
      ],
      "source": [
        "test_loss, test_acc = model.evaluate(test_set)\n",
        "print('test loss :{}   test accuracy :{}'.format(test_loss,test_acc))"
      ]
    },
    {
      "cell_type": "code",
      "source": [
        "\n",
        "model.save('XRay_Model.h5')"
      ],
      "metadata": {
        "id": "E3wZMLbjNtSS"
      },
      "execution_count": 12,
      "outputs": []
    },
    {
      "cell_type": "code",
      "source": [
        "from keras.saving.save import load_model\n",
        "new_model=load_model('/content/XRay_Model.h5')"
      ],
      "metadata": {
        "id": "rF1WwZzrPjYM"
      },
      "execution_count": 13,
      "outputs": []
    },
    {
      "cell_type": "code",
      "source": [
        "import numpy as np\n",
        "img_path='/content/xray/normal/7ab085a73b94836516c9d51f5a148c_jumbo.jpeg'\n",
        "img=image.load_img(img_path,target_size=(224,224))\n",
        "x=image.img_to_array(img)\n",
        "x=np.expand_dims(x,axis=0)\n",
        "pred=new_model.predict(x)\n",
        "\n",
        "covid=pred[0][0]\n",
        "normal=pred[0][1]\n",
        "if covid==1 and normal==0:\n",
        "  print('the person has covid 19')\n",
        "else:\n",
        "  print('the person is normal')  "
      ],
      "metadata": {
        "colab": {
          "base_uri": "https://localhost:8080/"
        },
        "id": "tEHDynCGPq5L",
        "outputId": "32cb9622-d6f0-4eaa-b239-a507409eb0b8"
      },
      "execution_count": 50,
      "outputs": [
        {
          "output_type": "stream",
          "name": "stdout",
          "text": [
            "the person is normal\n"
          ]
        }
      ]
    }
  ],
  "metadata": {
    "accelerator": "GPU",
    "colab": {
      "name": "XRay_Covid_19_CNN_Alexnet.ipynb",
      "provenance": []
    },
    "kernelspec": {
      "display_name": "Python 3",
      "name": "python3"
    },
    "language_info": {
      "name": "python"
    }
  },
  "nbformat": 4,
  "nbformat_minor": 0
}
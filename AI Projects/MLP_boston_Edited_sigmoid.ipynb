{
  "nbformat": 4,
  "nbformat_minor": 0,
  "metadata": {
    "colab": {
      "name": "MLP_boston.ipynb",
      "provenance": [],
      "collapsed_sections": []
    },
    "kernelspec": {
      "name": "python3",
      "display_name": "Python 3"
    },
    "language_info": {
      "name": "python"
    },
    "accelerator": "GPU"
  },
  "cells": [
    {
      "cell_type": "code",
      "metadata": {
        "id": "bLFV_s5NWkrl"
      },
      "source": [
        "import keras\n",
        "from keras.datasets import boston_housing\n",
        "\n",
        "from keras.models import Sequential\n",
        "from keras.layers import Dense\n",
        "\n",
        "from sklearn import preprocessing\n",
        "from sklearn.preprocessing import scale\n",
        "import numpy as np"
      ],
      "execution_count": 1,
      "outputs": []
    },
    {
      "cell_type": "code",
      "metadata": {
        "id": "bC7FfABY4mgD",
        "colab": {
          "base_uri": "https://localhost:8080/"
        },
        "outputId": "6d3c84cb-c91a-4532-fe15-b80518016181"
      },
      "source": [
        "(x_train, y_train), (x_test, y_test) = boston_housing.load_data()\n",
        "\n",
        "x_train[0]"
      ],
      "execution_count": 2,
      "outputs": [
        {
          "output_type": "execute_result",
          "data": {
            "text/plain": [
              "array([  1.23247,   0.     ,   8.14   ,   0.     ,   0.538  ,   6.142  ,\n",
              "        91.7    ,   3.9769 ,   4.     , 307.     ,  21.     , 396.9    ,\n",
              "        18.72   ])"
            ]
          },
          "metadata": {},
          "execution_count": 2
        }
      ]
    },
    {
      "cell_type": "code",
      "metadata": {
        "colab": {
          "base_uri": "https://localhost:8080/"
        },
        "id": "JbctX7jVigbA",
        "outputId": "c1167f76-36dc-4a56-f61d-eb0f36b76056"
      },
      "source": [
        "x_train_scaled = preprocessing.scale(x_train)\n",
        "\n",
        "x_train_scaled[0]"
      ],
      "execution_count": 3,
      "outputs": [
        {
          "output_type": "execute_result",
          "data": {
            "text/plain": [
              "array([-0.27224633, -0.48361547, -0.43576161, -0.25683275, -0.1652266 ,\n",
              "       -0.1764426 ,  0.81306188,  0.1166983 , -0.62624905, -0.59517003,\n",
              "        1.14850044,  0.44807713,  0.8252202 ])"
            ]
          },
          "metadata": {},
          "execution_count": 3
        }
      ]
    },
    {
      "cell_type": "code",
      "metadata": {
        "colab": {
          "base_uri": "https://localhost:8080/"
        },
        "id": "8pMESQH3iLhd",
        "outputId": "bb9af00d-37f8-44f6-abce-6bb9578505e1"
      },
      "source": [
        "\n",
        "x_test_scaled = preprocessing.scale(x_test)\n",
        "x_train_scaled[0]"
      ],
      "execution_count": 4,
      "outputs": [
        {
          "output_type": "execute_result",
          "data": {
            "text/plain": [
              "array([-0.27224633, -0.48361547, -0.43576161, -0.25683275, -0.1652266 ,\n",
              "       -0.1764426 ,  0.81306188,  0.1166983 , -0.62624905, -0.59517003,\n",
              "        1.14850044,  0.44807713,  0.8252202 ])"
            ]
          },
          "metadata": {},
          "execution_count": 4
        }
      ]
    },
    {
      "cell_type": "code",
      "source": [
        "y_train\n"
      ],
      "metadata": {
        "id": "Z-h7-KbJ8HOE"
      },
      "execution_count": null,
      "outputs": []
    },
    {
      "cell_type": "code",
      "source": [
        "y_train /=50.0\n",
        "y_test /=50.0\n"
      ],
      "metadata": {
        "id": "kQ_XxRzP5cC5"
      },
      "execution_count": 6,
      "outputs": []
    },
    {
      "cell_type": "code",
      "metadata": {
        "id": "ou0BfMKeXLJJ"
      },
      "source": [
        "model = Sequential()\n",
        "model.add(Dense(64, activation='sigmoid', input_shape=(13,)))\n",
        "#model.add(Dense(64, activation='relu'))\n",
        "\n",
        "model.add(Dense(1, activation='sigmoid'))\n",
        "\n",
        "model.compile(loss='mse', optimizer='sgd', metrics=['mse'])\n"
      ],
      "execution_count": 7,
      "outputs": []
    },
    {
      "cell_type": "code",
      "metadata": {
        "colab": {
          "base_uri": "https://localhost:8080/"
        },
        "id": "CTutzOcpjwyl",
        "outputId": "e9813bab-e27f-4ed5-9ed5-6c6b56bb0d38"
      },
      "source": [
        "history = model.fit(x_train_scaled, y_train,\n",
        "batch_size=32,\n",
        "epochs=200,\n",
        "verbose=1,\n",
        "validation_split = 0.2\n",
        ")"
      ],
      "execution_count": 8,
      "outputs": [
        {
          "output_type": "stream",
          "name": "stdout",
          "text": [
            "Epoch 1/200\n",
            "11/11 [==============================] - 1s 28ms/step - loss: 0.1629 - mse: 0.1629 - val_loss: 0.1845 - val_mse: 0.1845\n",
            "Epoch 2/200\n",
            "11/11 [==============================] - 0s 7ms/step - loss: 0.1570 - mse: 0.1570 - val_loss: 0.1779 - val_mse: 0.1779\n",
            "Epoch 3/200\n",
            "11/11 [==============================] - 0s 6ms/step - loss: 0.1504 - mse: 0.1504 - val_loss: 0.1699 - val_mse: 0.1699\n",
            "Epoch 4/200\n",
            "11/11 [==============================] - 0s 6ms/step - loss: 0.1425 - mse: 0.1425 - val_loss: 0.1609 - val_mse: 0.1609\n",
            "Epoch 5/200\n",
            "11/11 [==============================] - 0s 7ms/step - loss: 0.1337 - mse: 0.1337 - val_loss: 0.1514 - val_mse: 0.1514\n",
            "Epoch 6/200\n",
            "11/11 [==============================] - 0s 8ms/step - loss: 0.1245 - mse: 0.1245 - val_loss: 0.1410 - val_mse: 0.1410\n",
            "Epoch 7/200\n",
            "11/11 [==============================] - 0s 7ms/step - loss: 0.1145 - mse: 0.1145 - val_loss: 0.1297 - val_mse: 0.1297\n",
            "Epoch 8/200\n",
            "11/11 [==============================] - 0s 6ms/step - loss: 0.1039 - mse: 0.1039 - val_loss: 0.1173 - val_mse: 0.1173\n",
            "Epoch 9/200\n",
            "11/11 [==============================] - 0s 6ms/step - loss: 0.0925 - mse: 0.0925 - val_loss: 0.1043 - val_mse: 0.1043\n",
            "Epoch 10/200\n",
            "11/11 [==============================] - 0s 6ms/step - loss: 0.0809 - mse: 0.0809 - val_loss: 0.0917 - val_mse: 0.0917\n",
            "Epoch 11/200\n",
            "11/11 [==============================] - 0s 7ms/step - loss: 0.0700 - mse: 0.0700 - val_loss: 0.0805 - val_mse: 0.0805\n",
            "Epoch 12/200\n",
            "11/11 [==============================] - 0s 6ms/step - loss: 0.0607 - mse: 0.0607 - val_loss: 0.0695 - val_mse: 0.0695\n",
            "Epoch 13/200\n",
            "11/11 [==============================] - 0s 6ms/step - loss: 0.0521 - mse: 0.0521 - val_loss: 0.0607 - val_mse: 0.0607\n",
            "Epoch 14/200\n",
            "11/11 [==============================] - 0s 8ms/step - loss: 0.0455 - mse: 0.0455 - val_loss: 0.0542 - val_mse: 0.0542\n",
            "Epoch 15/200\n",
            "11/11 [==============================] - 0s 7ms/step - loss: 0.0409 - mse: 0.0409 - val_loss: 0.0482 - val_mse: 0.0482\n",
            "Epoch 16/200\n",
            "11/11 [==============================] - 0s 6ms/step - loss: 0.0368 - mse: 0.0368 - val_loss: 0.0444 - val_mse: 0.0444\n",
            "Epoch 17/200\n",
            "11/11 [==============================] - 0s 7ms/step - loss: 0.0344 - mse: 0.0344 - val_loss: 0.0417 - val_mse: 0.0417\n",
            "Epoch 18/200\n",
            "11/11 [==============================] - 0s 6ms/step - loss: 0.0327 - mse: 0.0327 - val_loss: 0.0391 - val_mse: 0.0391\n",
            "Epoch 19/200\n",
            "11/11 [==============================] - 0s 8ms/step - loss: 0.0311 - mse: 0.0311 - val_loss: 0.0375 - val_mse: 0.0375\n",
            "Epoch 20/200\n",
            "11/11 [==============================] - 0s 6ms/step - loss: 0.0302 - mse: 0.0302 - val_loss: 0.0360 - val_mse: 0.0360\n",
            "Epoch 21/200\n",
            "11/11 [==============================] - 0s 6ms/step - loss: 0.0294 - mse: 0.0294 - val_loss: 0.0351 - val_mse: 0.0351\n",
            "Epoch 22/200\n",
            "11/11 [==============================] - 0s 7ms/step - loss: 0.0289 - mse: 0.0289 - val_loss: 0.0343 - val_mse: 0.0343\n",
            "Epoch 23/200\n",
            "11/11 [==============================] - 0s 6ms/step - loss: 0.0285 - mse: 0.0285 - val_loss: 0.0335 - val_mse: 0.0335\n",
            "Epoch 24/200\n",
            "11/11 [==============================] - 0s 7ms/step - loss: 0.0281 - mse: 0.0281 - val_loss: 0.0331 - val_mse: 0.0331\n",
            "Epoch 25/200\n",
            "11/11 [==============================] - 0s 6ms/step - loss: 0.0278 - mse: 0.0278 - val_loss: 0.0327 - val_mse: 0.0327\n",
            "Epoch 26/200\n",
            "11/11 [==============================] - 0s 7ms/step - loss: 0.0275 - mse: 0.0275 - val_loss: 0.0322 - val_mse: 0.0322\n",
            "Epoch 27/200\n",
            "11/11 [==============================] - 0s 7ms/step - loss: 0.0273 - mse: 0.0273 - val_loss: 0.0319 - val_mse: 0.0319\n",
            "Epoch 28/200\n",
            "11/11 [==============================] - 0s 6ms/step - loss: 0.0270 - mse: 0.0270 - val_loss: 0.0317 - val_mse: 0.0317\n",
            "Epoch 29/200\n",
            "11/11 [==============================] - 0s 6ms/step - loss: 0.0269 - mse: 0.0269 - val_loss: 0.0314 - val_mse: 0.0314\n",
            "Epoch 30/200\n",
            "11/11 [==============================] - 0s 6ms/step - loss: 0.0266 - mse: 0.0266 - val_loss: 0.0308 - val_mse: 0.0308\n",
            "Epoch 31/200\n",
            "11/11 [==============================] - 0s 6ms/step - loss: 0.0264 - mse: 0.0264 - val_loss: 0.0307 - val_mse: 0.0307\n",
            "Epoch 32/200\n",
            "11/11 [==============================] - 0s 7ms/step - loss: 0.0262 - mse: 0.0262 - val_loss: 0.0305 - val_mse: 0.0305\n",
            "Epoch 33/200\n",
            "11/11 [==============================] - 0s 7ms/step - loss: 0.0260 - mse: 0.0260 - val_loss: 0.0305 - val_mse: 0.0305\n",
            "Epoch 34/200\n",
            "11/11 [==============================] - 0s 6ms/step - loss: 0.0259 - mse: 0.0259 - val_loss: 0.0303 - val_mse: 0.0303\n",
            "Epoch 35/200\n",
            "11/11 [==============================] - 0s 6ms/step - loss: 0.0257 - mse: 0.0257 - val_loss: 0.0300 - val_mse: 0.0300\n",
            "Epoch 36/200\n",
            "11/11 [==============================] - 0s 6ms/step - loss: 0.0255 - mse: 0.0255 - val_loss: 0.0300 - val_mse: 0.0300\n",
            "Epoch 37/200\n",
            "11/11 [==============================] - 0s 6ms/step - loss: 0.0253 - mse: 0.0253 - val_loss: 0.0298 - val_mse: 0.0298\n",
            "Epoch 38/200\n",
            "11/11 [==============================] - 0s 7ms/step - loss: 0.0252 - mse: 0.0252 - val_loss: 0.0296 - val_mse: 0.0296\n",
            "Epoch 39/200\n",
            "11/11 [==============================] - 0s 6ms/step - loss: 0.0250 - mse: 0.0250 - val_loss: 0.0294 - val_mse: 0.0294\n",
            "Epoch 40/200\n",
            "11/11 [==============================] - 0s 8ms/step - loss: 0.0248 - mse: 0.0248 - val_loss: 0.0292 - val_mse: 0.0292\n",
            "Epoch 41/200\n",
            "11/11 [==============================] - 0s 7ms/step - loss: 0.0247 - mse: 0.0247 - val_loss: 0.0291 - val_mse: 0.0291\n",
            "Epoch 42/200\n",
            "11/11 [==============================] - 0s 6ms/step - loss: 0.0245 - mse: 0.0245 - val_loss: 0.0290 - val_mse: 0.0290\n",
            "Epoch 43/200\n",
            "11/11 [==============================] - 0s 5ms/step - loss: 0.0244 - mse: 0.0244 - val_loss: 0.0289 - val_mse: 0.0289\n",
            "Epoch 44/200\n",
            "11/11 [==============================] - 0s 6ms/step - loss: 0.0242 - mse: 0.0242 - val_loss: 0.0290 - val_mse: 0.0290\n",
            "Epoch 45/200\n",
            "11/11 [==============================] - 0s 6ms/step - loss: 0.0241 - mse: 0.0241 - val_loss: 0.0287 - val_mse: 0.0287\n",
            "Epoch 46/200\n",
            "11/11 [==============================] - 0s 7ms/step - loss: 0.0239 - mse: 0.0239 - val_loss: 0.0285 - val_mse: 0.0285\n",
            "Epoch 47/200\n",
            "11/11 [==============================] - 0s 8ms/step - loss: 0.0238 - mse: 0.0238 - val_loss: 0.0282 - val_mse: 0.0282\n",
            "Epoch 48/200\n",
            "11/11 [==============================] - 0s 7ms/step - loss: 0.0236 - mse: 0.0236 - val_loss: 0.0280 - val_mse: 0.0280\n",
            "Epoch 49/200\n",
            "11/11 [==============================] - 0s 6ms/step - loss: 0.0235 - mse: 0.0235 - val_loss: 0.0280 - val_mse: 0.0280\n",
            "Epoch 50/200\n",
            "11/11 [==============================] - 0s 6ms/step - loss: 0.0234 - mse: 0.0234 - val_loss: 0.0278 - val_mse: 0.0278\n",
            "Epoch 51/200\n",
            "11/11 [==============================] - 0s 8ms/step - loss: 0.0233 - mse: 0.0233 - val_loss: 0.0277 - val_mse: 0.0277\n",
            "Epoch 52/200\n",
            "11/11 [==============================] - 0s 6ms/step - loss: 0.0231 - mse: 0.0231 - val_loss: 0.0277 - val_mse: 0.0277\n",
            "Epoch 53/200\n",
            "11/11 [==============================] - 0s 6ms/step - loss: 0.0230 - mse: 0.0230 - val_loss: 0.0276 - val_mse: 0.0276\n",
            "Epoch 54/200\n",
            "11/11 [==============================] - 0s 6ms/step - loss: 0.0229 - mse: 0.0229 - val_loss: 0.0274 - val_mse: 0.0274\n",
            "Epoch 55/200\n",
            "11/11 [==============================] - 0s 6ms/step - loss: 0.0227 - mse: 0.0227 - val_loss: 0.0272 - val_mse: 0.0272\n",
            "Epoch 56/200\n",
            "11/11 [==============================] - 0s 8ms/step - loss: 0.0226 - mse: 0.0226 - val_loss: 0.0273 - val_mse: 0.0273\n",
            "Epoch 57/200\n",
            "11/11 [==============================] - 0s 6ms/step - loss: 0.0225 - mse: 0.0225 - val_loss: 0.0272 - val_mse: 0.0272\n",
            "Epoch 58/200\n",
            "11/11 [==============================] - 0s 6ms/step - loss: 0.0224 - mse: 0.0224 - val_loss: 0.0271 - val_mse: 0.0271\n",
            "Epoch 59/200\n",
            "11/11 [==============================] - 0s 6ms/step - loss: 0.0223 - mse: 0.0223 - val_loss: 0.0271 - val_mse: 0.0271\n",
            "Epoch 60/200\n",
            "11/11 [==============================] - 0s 6ms/step - loss: 0.0222 - mse: 0.0222 - val_loss: 0.0270 - val_mse: 0.0270\n",
            "Epoch 61/200\n",
            "11/11 [==============================] - 0s 5ms/step - loss: 0.0221 - mse: 0.0221 - val_loss: 0.0267 - val_mse: 0.0267\n",
            "Epoch 62/200\n",
            "11/11 [==============================] - 0s 7ms/step - loss: 0.0220 - mse: 0.0220 - val_loss: 0.0266 - val_mse: 0.0266\n",
            "Epoch 63/200\n",
            "11/11 [==============================] - 0s 6ms/step - loss: 0.0219 - mse: 0.0219 - val_loss: 0.0265 - val_mse: 0.0265\n",
            "Epoch 64/200\n",
            "11/11 [==============================] - 0s 8ms/step - loss: 0.0218 - mse: 0.0218 - val_loss: 0.0264 - val_mse: 0.0264\n",
            "Epoch 65/200\n",
            "11/11 [==============================] - 0s 6ms/step - loss: 0.0217 - mse: 0.0217 - val_loss: 0.0265 - val_mse: 0.0265\n",
            "Epoch 66/200\n",
            "11/11 [==============================] - 0s 7ms/step - loss: 0.0216 - mse: 0.0216 - val_loss: 0.0265 - val_mse: 0.0265\n",
            "Epoch 67/200\n",
            "11/11 [==============================] - 0s 7ms/step - loss: 0.0215 - mse: 0.0215 - val_loss: 0.0264 - val_mse: 0.0264\n",
            "Epoch 68/200\n",
            "11/11 [==============================] - 0s 6ms/step - loss: 0.0214 - mse: 0.0214 - val_loss: 0.0263 - val_mse: 0.0263\n",
            "Epoch 69/200\n",
            "11/11 [==============================] - 0s 6ms/step - loss: 0.0214 - mse: 0.0214 - val_loss: 0.0262 - val_mse: 0.0262\n",
            "Epoch 70/200\n",
            "11/11 [==============================] - 0s 8ms/step - loss: 0.0213 - mse: 0.0213 - val_loss: 0.0262 - val_mse: 0.0262\n",
            "Epoch 71/200\n",
            "11/11 [==============================] - 0s 7ms/step - loss: 0.0212 - mse: 0.0212 - val_loss: 0.0260 - val_mse: 0.0260\n",
            "Epoch 72/200\n",
            "11/11 [==============================] - 0s 6ms/step - loss: 0.0211 - mse: 0.0211 - val_loss: 0.0260 - val_mse: 0.0260\n",
            "Epoch 73/200\n",
            "11/11 [==============================] - 0s 6ms/step - loss: 0.0210 - mse: 0.0210 - val_loss: 0.0260 - val_mse: 0.0260\n",
            "Epoch 74/200\n",
            "11/11 [==============================] - 0s 6ms/step - loss: 0.0209 - mse: 0.0209 - val_loss: 0.0260 - val_mse: 0.0260\n",
            "Epoch 75/200\n",
            "11/11 [==============================] - 0s 7ms/step - loss: 0.0209 - mse: 0.0209 - val_loss: 0.0258 - val_mse: 0.0258\n",
            "Epoch 76/200\n",
            "11/11 [==============================] - 0s 7ms/step - loss: 0.0208 - mse: 0.0208 - val_loss: 0.0258 - val_mse: 0.0258\n",
            "Epoch 77/200\n",
            "11/11 [==============================] - 0s 6ms/step - loss: 0.0207 - mse: 0.0207 - val_loss: 0.0257 - val_mse: 0.0257\n",
            "Epoch 78/200\n",
            "11/11 [==============================] - 0s 6ms/step - loss: 0.0206 - mse: 0.0206 - val_loss: 0.0254 - val_mse: 0.0254\n",
            "Epoch 79/200\n",
            "11/11 [==============================] - 0s 7ms/step - loss: 0.0205 - mse: 0.0205 - val_loss: 0.0253 - val_mse: 0.0253\n",
            "Epoch 80/200\n",
            "11/11 [==============================] - 0s 7ms/step - loss: 0.0205 - mse: 0.0205 - val_loss: 0.0253 - val_mse: 0.0253\n",
            "Epoch 81/200\n",
            "11/11 [==============================] - 0s 6ms/step - loss: 0.0204 - mse: 0.0204 - val_loss: 0.0252 - val_mse: 0.0252\n",
            "Epoch 82/200\n",
            "11/11 [==============================] - 0s 6ms/step - loss: 0.0203 - mse: 0.0203 - val_loss: 0.0251 - val_mse: 0.0251\n",
            "Epoch 83/200\n",
            "11/11 [==============================] - 0s 6ms/step - loss: 0.0203 - mse: 0.0203 - val_loss: 0.0249 - val_mse: 0.0249\n",
            "Epoch 84/200\n",
            "11/11 [==============================] - 0s 6ms/step - loss: 0.0202 - mse: 0.0202 - val_loss: 0.0249 - val_mse: 0.0249\n",
            "Epoch 85/200\n",
            "11/11 [==============================] - 0s 6ms/step - loss: 0.0201 - mse: 0.0201 - val_loss: 0.0247 - val_mse: 0.0247\n",
            "Epoch 86/200\n",
            "11/11 [==============================] - 0s 7ms/step - loss: 0.0201 - mse: 0.0201 - val_loss: 0.0247 - val_mse: 0.0247\n",
            "Epoch 87/200\n",
            "11/11 [==============================] - 0s 6ms/step - loss: 0.0200 - mse: 0.0200 - val_loss: 0.0247 - val_mse: 0.0247\n",
            "Epoch 88/200\n",
            "11/11 [==============================] - 0s 6ms/step - loss: 0.0199 - mse: 0.0199 - val_loss: 0.0247 - val_mse: 0.0247\n",
            "Epoch 89/200\n",
            "11/11 [==============================] - 0s 6ms/step - loss: 0.0199 - mse: 0.0199 - val_loss: 0.0247 - val_mse: 0.0247\n",
            "Epoch 90/200\n",
            "11/11 [==============================] - 0s 6ms/step - loss: 0.0198 - mse: 0.0198 - val_loss: 0.0246 - val_mse: 0.0246\n",
            "Epoch 91/200\n",
            "11/11 [==============================] - 0s 8ms/step - loss: 0.0197 - mse: 0.0197 - val_loss: 0.0246 - val_mse: 0.0246\n",
            "Epoch 92/200\n",
            "11/11 [==============================] - 0s 7ms/step - loss: 0.0197 - mse: 0.0197 - val_loss: 0.0245 - val_mse: 0.0245\n",
            "Epoch 93/200\n",
            "11/11 [==============================] - 0s 6ms/step - loss: 0.0196 - mse: 0.0196 - val_loss: 0.0244 - val_mse: 0.0244\n",
            "Epoch 94/200\n",
            "11/11 [==============================] - 0s 9ms/step - loss: 0.0196 - mse: 0.0196 - val_loss: 0.0244 - val_mse: 0.0244\n",
            "Epoch 95/200\n",
            "11/11 [==============================] - 0s 7ms/step - loss: 0.0195 - mse: 0.0195 - val_loss: 0.0242 - val_mse: 0.0242\n",
            "Epoch 96/200\n",
            "11/11 [==============================] - 0s 6ms/step - loss: 0.0194 - mse: 0.0194 - val_loss: 0.0241 - val_mse: 0.0241\n",
            "Epoch 97/200\n",
            "11/11 [==============================] - 0s 8ms/step - loss: 0.0194 - mse: 0.0194 - val_loss: 0.0241 - val_mse: 0.0241\n",
            "Epoch 98/200\n",
            "11/11 [==============================] - 0s 7ms/step - loss: 0.0193 - mse: 0.0193 - val_loss: 0.0240 - val_mse: 0.0240\n",
            "Epoch 99/200\n",
            "11/11 [==============================] - 0s 6ms/step - loss: 0.0192 - mse: 0.0192 - val_loss: 0.0240 - val_mse: 0.0240\n",
            "Epoch 100/200\n",
            "11/11 [==============================] - 0s 6ms/step - loss: 0.0192 - mse: 0.0192 - val_loss: 0.0240 - val_mse: 0.0240\n",
            "Epoch 101/200\n",
            "11/11 [==============================] - 0s 6ms/step - loss: 0.0191 - mse: 0.0191 - val_loss: 0.0240 - val_mse: 0.0240\n",
            "Epoch 102/200\n",
            "11/11 [==============================] - 0s 8ms/step - loss: 0.0191 - mse: 0.0191 - val_loss: 0.0239 - val_mse: 0.0239\n",
            "Epoch 103/200\n",
            "11/11 [==============================] - 0s 9ms/step - loss: 0.0190 - mse: 0.0190 - val_loss: 0.0239 - val_mse: 0.0239\n",
            "Epoch 104/200\n",
            "11/11 [==============================] - 0s 6ms/step - loss: 0.0190 - mse: 0.0190 - val_loss: 0.0236 - val_mse: 0.0236\n",
            "Epoch 105/200\n",
            "11/11 [==============================] - 0s 7ms/step - loss: 0.0190 - mse: 0.0190 - val_loss: 0.0236 - val_mse: 0.0236\n",
            "Epoch 106/200\n",
            "11/11 [==============================] - 0s 8ms/step - loss: 0.0189 - mse: 0.0189 - val_loss: 0.0236 - val_mse: 0.0236\n",
            "Epoch 107/200\n",
            "11/11 [==============================] - 0s 6ms/step - loss: 0.0189 - mse: 0.0189 - val_loss: 0.0236 - val_mse: 0.0236\n",
            "Epoch 108/200\n",
            "11/11 [==============================] - 0s 7ms/step - loss: 0.0188 - mse: 0.0188 - val_loss: 0.0237 - val_mse: 0.0237\n",
            "Epoch 109/200\n",
            "11/11 [==============================] - 0s 7ms/step - loss: 0.0188 - mse: 0.0188 - val_loss: 0.0236 - val_mse: 0.0236\n",
            "Epoch 110/200\n",
            "11/11 [==============================] - 0s 8ms/step - loss: 0.0187 - mse: 0.0187 - val_loss: 0.0235 - val_mse: 0.0235\n",
            "Epoch 111/200\n",
            "11/11 [==============================] - 0s 7ms/step - loss: 0.0187 - mse: 0.0187 - val_loss: 0.0234 - val_mse: 0.0234\n",
            "Epoch 112/200\n",
            "11/11 [==============================] - 0s 6ms/step - loss: 0.0186 - mse: 0.0186 - val_loss: 0.0234 - val_mse: 0.0234\n",
            "Epoch 113/200\n",
            "11/11 [==============================] - 0s 6ms/step - loss: 0.0186 - mse: 0.0186 - val_loss: 0.0233 - val_mse: 0.0233\n",
            "Epoch 114/200\n",
            "11/11 [==============================] - 0s 7ms/step - loss: 0.0185 - mse: 0.0185 - val_loss: 0.0233 - val_mse: 0.0233\n",
            "Epoch 115/200\n",
            "11/11 [==============================] - 0s 6ms/step - loss: 0.0185 - mse: 0.0185 - val_loss: 0.0233 - val_mse: 0.0233\n",
            "Epoch 116/200\n",
            "11/11 [==============================] - 0s 7ms/step - loss: 0.0184 - mse: 0.0184 - val_loss: 0.0232 - val_mse: 0.0232\n",
            "Epoch 117/200\n",
            "11/11 [==============================] - 0s 6ms/step - loss: 0.0184 - mse: 0.0184 - val_loss: 0.0231 - val_mse: 0.0231\n",
            "Epoch 118/200\n",
            "11/11 [==============================] - 0s 6ms/step - loss: 0.0183 - mse: 0.0183 - val_loss: 0.0229 - val_mse: 0.0229\n",
            "Epoch 119/200\n",
            "11/11 [==============================] - 0s 6ms/step - loss: 0.0183 - mse: 0.0183 - val_loss: 0.0229 - val_mse: 0.0229\n",
            "Epoch 120/200\n",
            "11/11 [==============================] - 0s 8ms/step - loss: 0.0182 - mse: 0.0182 - val_loss: 0.0227 - val_mse: 0.0227\n",
            "Epoch 121/200\n",
            "11/11 [==============================] - 0s 8ms/step - loss: 0.0182 - mse: 0.0182 - val_loss: 0.0227 - val_mse: 0.0227\n",
            "Epoch 122/200\n",
            "11/11 [==============================] - 0s 8ms/step - loss: 0.0182 - mse: 0.0182 - val_loss: 0.0227 - val_mse: 0.0227\n",
            "Epoch 123/200\n",
            "11/11 [==============================] - 0s 6ms/step - loss: 0.0181 - mse: 0.0181 - val_loss: 0.0226 - val_mse: 0.0226\n",
            "Epoch 124/200\n",
            "11/11 [==============================] - 0s 7ms/step - loss: 0.0181 - mse: 0.0181 - val_loss: 0.0226 - val_mse: 0.0226\n",
            "Epoch 125/200\n",
            "11/11 [==============================] - 0s 6ms/step - loss: 0.0180 - mse: 0.0180 - val_loss: 0.0226 - val_mse: 0.0226\n",
            "Epoch 126/200\n",
            "11/11 [==============================] - 0s 6ms/step - loss: 0.0180 - mse: 0.0180 - val_loss: 0.0225 - val_mse: 0.0225\n",
            "Epoch 127/200\n",
            "11/11 [==============================] - 0s 6ms/step - loss: 0.0179 - mse: 0.0179 - val_loss: 0.0225 - val_mse: 0.0225\n",
            "Epoch 128/200\n",
            "11/11 [==============================] - 0s 6ms/step - loss: 0.0179 - mse: 0.0179 - val_loss: 0.0225 - val_mse: 0.0225\n",
            "Epoch 129/200\n",
            "11/11 [==============================] - 0s 8ms/step - loss: 0.0179 - mse: 0.0179 - val_loss: 0.0223 - val_mse: 0.0223\n",
            "Epoch 130/200\n",
            "11/11 [==============================] - 0s 8ms/step - loss: 0.0178 - mse: 0.0178 - val_loss: 0.0221 - val_mse: 0.0221\n",
            "Epoch 131/200\n",
            "11/11 [==============================] - 0s 7ms/step - loss: 0.0178 - mse: 0.0178 - val_loss: 0.0222 - val_mse: 0.0222\n",
            "Epoch 132/200\n",
            "11/11 [==============================] - 0s 7ms/step - loss: 0.0178 - mse: 0.0178 - val_loss: 0.0221 - val_mse: 0.0221\n",
            "Epoch 133/200\n",
            "11/11 [==============================] - 0s 6ms/step - loss: 0.0177 - mse: 0.0177 - val_loss: 0.0221 - val_mse: 0.0221\n",
            "Epoch 134/200\n",
            "11/11 [==============================] - 0s 7ms/step - loss: 0.0177 - mse: 0.0177 - val_loss: 0.0221 - val_mse: 0.0221\n",
            "Epoch 135/200\n",
            "11/11 [==============================] - 0s 6ms/step - loss: 0.0176 - mse: 0.0176 - val_loss: 0.0221 - val_mse: 0.0221\n",
            "Epoch 136/200\n",
            "11/11 [==============================] - 0s 6ms/step - loss: 0.0176 - mse: 0.0176 - val_loss: 0.0220 - val_mse: 0.0220\n",
            "Epoch 137/200\n",
            "11/11 [==============================] - 0s 6ms/step - loss: 0.0176 - mse: 0.0176 - val_loss: 0.0221 - val_mse: 0.0221\n",
            "Epoch 138/200\n",
            "11/11 [==============================] - 0s 6ms/step - loss: 0.0175 - mse: 0.0175 - val_loss: 0.0220 - val_mse: 0.0220\n",
            "Epoch 139/200\n",
            "11/11 [==============================] - 0s 6ms/step - loss: 0.0175 - mse: 0.0175 - val_loss: 0.0219 - val_mse: 0.0219\n",
            "Epoch 140/200\n",
            "11/11 [==============================] - 0s 6ms/step - loss: 0.0175 - mse: 0.0175 - val_loss: 0.0219 - val_mse: 0.0219\n",
            "Epoch 141/200\n",
            "11/11 [==============================] - 0s 6ms/step - loss: 0.0174 - mse: 0.0174 - val_loss: 0.0219 - val_mse: 0.0219\n",
            "Epoch 142/200\n",
            "11/11 [==============================] - 0s 8ms/step - loss: 0.0174 - mse: 0.0174 - val_loss: 0.0219 - val_mse: 0.0219\n",
            "Epoch 143/200\n",
            "11/11 [==============================] - 0s 7ms/step - loss: 0.0174 - mse: 0.0174 - val_loss: 0.0219 - val_mse: 0.0219\n",
            "Epoch 144/200\n",
            "11/11 [==============================] - 0s 8ms/step - loss: 0.0173 - mse: 0.0173 - val_loss: 0.0218 - val_mse: 0.0218\n",
            "Epoch 145/200\n",
            "11/11 [==============================] - 0s 7ms/step - loss: 0.0173 - mse: 0.0173 - val_loss: 0.0216 - val_mse: 0.0216\n",
            "Epoch 146/200\n",
            "11/11 [==============================] - 0s 6ms/step - loss: 0.0173 - mse: 0.0173 - val_loss: 0.0215 - val_mse: 0.0215\n",
            "Epoch 147/200\n",
            "11/11 [==============================] - 0s 7ms/step - loss: 0.0172 - mse: 0.0172 - val_loss: 0.0214 - val_mse: 0.0214\n",
            "Epoch 148/200\n",
            "11/11 [==============================] - 0s 7ms/step - loss: 0.0172 - mse: 0.0172 - val_loss: 0.0214 - val_mse: 0.0214\n",
            "Epoch 149/200\n",
            "11/11 [==============================] - 0s 6ms/step - loss: 0.0172 - mse: 0.0172 - val_loss: 0.0212 - val_mse: 0.0212\n",
            "Epoch 150/200\n",
            "11/11 [==============================] - 0s 6ms/step - loss: 0.0171 - mse: 0.0171 - val_loss: 0.0213 - val_mse: 0.0213\n",
            "Epoch 151/200\n",
            "11/11 [==============================] - 0s 6ms/step - loss: 0.0171 - mse: 0.0171 - val_loss: 0.0213 - val_mse: 0.0213\n",
            "Epoch 152/200\n",
            "11/11 [==============================] - 0s 6ms/step - loss: 0.0170 - mse: 0.0170 - val_loss: 0.0213 - val_mse: 0.0213\n",
            "Epoch 153/200\n",
            "11/11 [==============================] - 0s 6ms/step - loss: 0.0170 - mse: 0.0170 - val_loss: 0.0213 - val_mse: 0.0213\n",
            "Epoch 154/200\n",
            "11/11 [==============================] - 0s 6ms/step - loss: 0.0170 - mse: 0.0170 - val_loss: 0.0213 - val_mse: 0.0213\n",
            "Epoch 155/200\n",
            "11/11 [==============================] - 0s 7ms/step - loss: 0.0169 - mse: 0.0169 - val_loss: 0.0213 - val_mse: 0.0213\n",
            "Epoch 156/200\n",
            "11/11 [==============================] - 0s 6ms/step - loss: 0.0169 - mse: 0.0169 - val_loss: 0.0213 - val_mse: 0.0213\n",
            "Epoch 157/200\n",
            "11/11 [==============================] - 0s 6ms/step - loss: 0.0169 - mse: 0.0169 - val_loss: 0.0213 - val_mse: 0.0213\n",
            "Epoch 158/200\n",
            "11/11 [==============================] - 0s 6ms/step - loss: 0.0169 - mse: 0.0169 - val_loss: 0.0213 - val_mse: 0.0213\n",
            "Epoch 159/200\n",
            "11/11 [==============================] - 0s 6ms/step - loss: 0.0168 - mse: 0.0168 - val_loss: 0.0213 - val_mse: 0.0213\n",
            "Epoch 160/200\n",
            "11/11 [==============================] - 0s 7ms/step - loss: 0.0168 - mse: 0.0168 - val_loss: 0.0211 - val_mse: 0.0211\n",
            "Epoch 161/200\n",
            "11/11 [==============================] - 0s 6ms/step - loss: 0.0168 - mse: 0.0168 - val_loss: 0.0211 - val_mse: 0.0211\n",
            "Epoch 162/200\n",
            "11/11 [==============================] - 0s 7ms/step - loss: 0.0167 - mse: 0.0167 - val_loss: 0.0211 - val_mse: 0.0211\n",
            "Epoch 163/200\n",
            "11/11 [==============================] - 0s 6ms/step - loss: 0.0167 - mse: 0.0167 - val_loss: 0.0211 - val_mse: 0.0211\n",
            "Epoch 164/200\n",
            "11/11 [==============================] - 0s 8ms/step - loss: 0.0167 - mse: 0.0167 - val_loss: 0.0209 - val_mse: 0.0209\n",
            "Epoch 165/200\n",
            "11/11 [==============================] - 0s 6ms/step - loss: 0.0166 - mse: 0.0166 - val_loss: 0.0210 - val_mse: 0.0210\n",
            "Epoch 166/200\n",
            "11/11 [==============================] - 0s 8ms/step - loss: 0.0166 - mse: 0.0166 - val_loss: 0.0209 - val_mse: 0.0209\n",
            "Epoch 167/200\n",
            "11/11 [==============================] - 0s 8ms/step - loss: 0.0166 - mse: 0.0166 - val_loss: 0.0209 - val_mse: 0.0209\n",
            "Epoch 168/200\n",
            "11/11 [==============================] - 0s 6ms/step - loss: 0.0165 - mse: 0.0165 - val_loss: 0.0209 - val_mse: 0.0209\n",
            "Epoch 169/200\n",
            "11/11 [==============================] - 0s 7ms/step - loss: 0.0165 - mse: 0.0165 - val_loss: 0.0208 - val_mse: 0.0208\n",
            "Epoch 170/200\n",
            "11/11 [==============================] - 0s 7ms/step - loss: 0.0165 - mse: 0.0165 - val_loss: 0.0208 - val_mse: 0.0208\n",
            "Epoch 171/200\n",
            "11/11 [==============================] - 0s 6ms/step - loss: 0.0165 - mse: 0.0165 - val_loss: 0.0206 - val_mse: 0.0206\n",
            "Epoch 172/200\n",
            "11/11 [==============================] - 0s 6ms/step - loss: 0.0164 - mse: 0.0164 - val_loss: 0.0206 - val_mse: 0.0206\n",
            "Epoch 173/200\n",
            "11/11 [==============================] - 0s 6ms/step - loss: 0.0164 - mse: 0.0164 - val_loss: 0.0206 - val_mse: 0.0206\n",
            "Epoch 174/200\n",
            "11/11 [==============================] - 0s 7ms/step - loss: 0.0164 - mse: 0.0164 - val_loss: 0.0206 - val_mse: 0.0206\n",
            "Epoch 175/200\n",
            "11/11 [==============================] - 0s 7ms/step - loss: 0.0163 - mse: 0.0163 - val_loss: 0.0207 - val_mse: 0.0207\n",
            "Epoch 176/200\n",
            "11/11 [==============================] - 0s 6ms/step - loss: 0.0163 - mse: 0.0163 - val_loss: 0.0206 - val_mse: 0.0206\n",
            "Epoch 177/200\n",
            "11/11 [==============================] - 0s 7ms/step - loss: 0.0163 - mse: 0.0163 - val_loss: 0.0206 - val_mse: 0.0206\n",
            "Epoch 178/200\n",
            "11/11 [==============================] - 0s 7ms/step - loss: 0.0163 - mse: 0.0163 - val_loss: 0.0205 - val_mse: 0.0205\n",
            "Epoch 179/200\n",
            "11/11 [==============================] - 0s 6ms/step - loss: 0.0162 - mse: 0.0162 - val_loss: 0.0205 - val_mse: 0.0205\n",
            "Epoch 180/200\n",
            "11/11 [==============================] - 0s 7ms/step - loss: 0.0162 - mse: 0.0162 - val_loss: 0.0205 - val_mse: 0.0205\n",
            "Epoch 181/200\n",
            "11/11 [==============================] - 0s 6ms/step - loss: 0.0162 - mse: 0.0162 - val_loss: 0.0205 - val_mse: 0.0205\n",
            "Epoch 182/200\n",
            "11/11 [==============================] - 0s 6ms/step - loss: 0.0162 - mse: 0.0162 - val_loss: 0.0204 - val_mse: 0.0204\n",
            "Epoch 183/200\n",
            "11/11 [==============================] - 0s 6ms/step - loss: 0.0161 - mse: 0.0161 - val_loss: 0.0204 - val_mse: 0.0204\n",
            "Epoch 184/200\n",
            "11/11 [==============================] - 0s 6ms/step - loss: 0.0161 - mse: 0.0161 - val_loss: 0.0204 - val_mse: 0.0204\n",
            "Epoch 185/200\n",
            "11/11 [==============================] - 0s 7ms/step - loss: 0.0161 - mse: 0.0161 - val_loss: 0.0204 - val_mse: 0.0204\n",
            "Epoch 186/200\n",
            "11/11 [==============================] - 0s 7ms/step - loss: 0.0161 - mse: 0.0161 - val_loss: 0.0201 - val_mse: 0.0201\n",
            "Epoch 187/200\n",
            "11/11 [==============================] - 0s 6ms/step - loss: 0.0160 - mse: 0.0160 - val_loss: 0.0201 - val_mse: 0.0201\n",
            "Epoch 188/200\n",
            "11/11 [==============================] - 0s 8ms/step - loss: 0.0160 - mse: 0.0160 - val_loss: 0.0200 - val_mse: 0.0200\n",
            "Epoch 189/200\n",
            "11/11 [==============================] - 0s 6ms/step - loss: 0.0160 - mse: 0.0160 - val_loss: 0.0200 - val_mse: 0.0200\n",
            "Epoch 190/200\n",
            "11/11 [==============================] - 0s 6ms/step - loss: 0.0160 - mse: 0.0160 - val_loss: 0.0200 - val_mse: 0.0200\n",
            "Epoch 191/200\n",
            "11/11 [==============================] - 0s 6ms/step - loss: 0.0159 - mse: 0.0159 - val_loss: 0.0200 - val_mse: 0.0200\n",
            "Epoch 192/200\n",
            "11/11 [==============================] - 0s 6ms/step - loss: 0.0159 - mse: 0.0159 - val_loss: 0.0200 - val_mse: 0.0200\n",
            "Epoch 193/200\n",
            "11/11 [==============================] - 0s 7ms/step - loss: 0.0159 - mse: 0.0159 - val_loss: 0.0200 - val_mse: 0.0200\n",
            "Epoch 194/200\n",
            "11/11 [==============================] - 0s 6ms/step - loss: 0.0158 - mse: 0.0158 - val_loss: 0.0199 - val_mse: 0.0199\n",
            "Epoch 195/200\n",
            "11/11 [==============================] - 0s 7ms/step - loss: 0.0158 - mse: 0.0158 - val_loss: 0.0199 - val_mse: 0.0199\n",
            "Epoch 196/200\n",
            "11/11 [==============================] - 0s 6ms/step - loss: 0.0158 - mse: 0.0158 - val_loss: 0.0199 - val_mse: 0.0199\n",
            "Epoch 197/200\n",
            "11/11 [==============================] - 0s 7ms/step - loss: 0.0158 - mse: 0.0158 - val_loss: 0.0200 - val_mse: 0.0200\n",
            "Epoch 198/200\n",
            "11/11 [==============================] - 0s 6ms/step - loss: 0.0158 - mse: 0.0158 - val_loss: 0.0199 - val_mse: 0.0199\n",
            "Epoch 199/200\n",
            "11/11 [==============================] - 0s 6ms/step - loss: 0.0157 - mse: 0.0157 - val_loss: 0.0198 - val_mse: 0.0198\n",
            "Epoch 200/200\n",
            "11/11 [==============================] - 0s 6ms/step - loss: 0.0157 - mse: 0.0157 - val_loss: 0.0198 - val_mse: 0.0198\n"
          ]
        }
      ]
    },
    {
      "cell_type": "code",
      "metadata": {
        "colab": {
          "base_uri": "https://localhost:8080/",
          "height": 295
        },
        "id": "5BVdraPibu8C",
        "outputId": "5bd3d154-f845-4a7f-d3cd-a0d9298243dd"
      },
      "source": [
        "import matplotlib.pyplot as plt\n",
        "\n",
        "plt.plot(history.history['mse'])\n",
        "plt.plot(history.history['val_mse'])\n",
        "plt.title('Model mse')\n",
        "plt.ylabel('mse')\n",
        "plt.xlabel('Epoch')\n",
        "plt.legend(['Train', 'Test'], loc='upper right')\n",
        "plt.show()"
      ],
      "execution_count": 9,
      "outputs": [
        {
          "output_type": "display_data",
          "data": {
            "image/png": "[encoded data removed]",
            "text/plain": [
              "<Figure size 432x288 with 1 Axes>"
            ]
          },
          "metadata": {
            "needs_background": "light"
          }
        }
      ]
    },
    {
      "cell_type": "code",
      "metadata": {
        "colab": {
          "base_uri": "https://localhost:8080/",
          "height": 295
        },
        "id": "hTJ6n6nS7QNg",
        "outputId": "aaab47e8-9ce2-4d98-eccf-f75960ab0e4e"
      },
      "source": [
        "plt.plot(history.history['loss'])\n",
        "plt.plot(history.history['val_loss'])\n",
        "plt.title('Model loss')\n",
        "plt.ylabel('loss')\n",
        "plt.xlabel('Epoch')\n",
        "plt.legend(['Train', 'Test'], loc='upper right')\n",
        "plt.show()"
      ],
      "execution_count": 10,
      "outputs": [
        {
          "output_type": "display_data",
          "data": {
            "image/png": "[encoded data removed]",
            "text/plain": [
              "<Figure size 432x288 with 1 Axes>"
            ]
          },
          "metadata": {
            "needs_background": "light"
          }
        }
      ]
    },
    {
      "cell_type": "code",
      "metadata": {
        "id": "__yjepLgb5oV",
        "colab": {
          "base_uri": "https://localhost:8080/"
        },
        "outputId": "0a65187f-fea4-4321-db57-88463ea3a915"
      },
      "source": [
        "score = model.evaluate(x_test_scaled, y_test, verbose=0)\n",
        "print('Test loss:', score[0])\n"
      ],
      "execution_count": 16,
      "outputs": [
        {
          "output_type": "stream",
          "name": "stdout",
          "text": [
            "Test loss: 0.013896743766963482\n",
            "Test accuracy: 0.013896743766963482\n"
          ]
        }
      ]
    },
    {
      "cell_type": "code",
      "metadata": {
        "colab": {
          "base_uri": "https://localhost:8080/"
        },
        "id": "FX8MYvr48Ed-",
        "outputId": "6b211674-00aa-450b-aa92-bcf61ab0e2a9"
      },
      "source": [
        "\n",
        "prediction = model.predict(x_test_scaled)\n",
        "\n",
        "print(prediction.flatten()*50)\n",
        "print(y_test.flatten()*50)\n"
      ],
      "execution_count": 21,
      "outputs": [
        {
          "output_type": "stream",
          "name": "stdout",
          "text": [
            "[13.984749 19.081263 22.583485 21.63655  23.741955 20.454597 29.55363\n",
            " 25.021765 19.257927 18.018536 20.731236 19.1989   16.439762 29.902163\n",
            " 15.455432 24.562366 25.252676 24.29108  16.883207 15.615894 12.237109\n",
            " 16.690535 21.407104 19.970829 28.240875 18.485838 22.301037 32.01656\n",
            " 15.316895 23.908558 21.399384 17.066189 26.644823 24.611649 15.786868\n",
            " 10.589962 18.677444 22.320124 16.436724 30.544355 27.700312 25.637606\n",
            " 15.613601 30.0852   25.510555 23.204514 26.632303 20.08073  18.743093\n",
            " 23.563784 32.493965 22.356665 11.843674 16.957205 30.484142 25.671577\n",
            " 15.053837 32.779675 26.430046 24.372084 20.067194 16.441778 16.49251\n",
            " 20.302715 23.92648  29.155376 16.10203  28.327877 11.413079 12.740726\n",
            " 15.700173 28.85205  17.482904 12.857127 28.129494 24.091267 23.449694\n",
            " 24.353725 30.873188 10.725386 22.61252  30.74067  21.30704  16.043636\n",
            " 20.886774 22.547422 16.56511  18.223278 22.047802 21.119263 20.740408\n",
            " 26.396757 27.464815 31.630304 30.39669  21.817257 29.891916 22.72064\n",
            " 24.315144 26.100197 22.243643 22.978157]\n",
            "[ 7.2 18.8 19.  27.  22.2 24.5 31.2 22.9 20.5 23.2 18.6 14.5 17.8 50.\n",
            " 20.8 24.3 24.2 19.8 19.1 22.7 12.  10.2 20.  18.5 20.9 23.  27.5 30.1\n",
            "  9.5 22.  21.2 14.1 33.1 23.4 20.1  7.4 15.4 23.8 20.1 24.5 33.  28.4\n",
            " 14.1 46.7 32.5 29.6 28.4 19.8 20.2 25.  35.4 20.3  9.7 14.5 34.9 26.6\n",
            "  7.2 50.  32.4 21.6 29.8 13.1 27.5 21.2 23.1 21.9 13.  23.2  8.1  5.6\n",
            " 21.7 29.6 19.6  7.  26.4 18.9 20.9 28.1 35.4 10.2 24.3 43.1 17.6 15.4\n",
            " 16.2 27.1 21.4 21.5 22.4 25.  16.6 18.6 22.  42.8 35.1 21.5 36.  21.9\n",
            " 24.1 50.  26.7 25. ]\n"
          ]
        }
      ]
    }
  ]
}
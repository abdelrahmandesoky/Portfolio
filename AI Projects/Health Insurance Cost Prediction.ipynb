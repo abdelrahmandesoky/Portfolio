{
 "cells": [
  {
   "cell_type": "code",
   "execution_count": 1,
   "id": "1f1f0662",
   "metadata": {},
   "outputs": [],
   "source": [
    "import pandas as pd"
   ]
  },
  {
   "cell_type": "code",
   "execution_count": 2,
   "id": "ea568cae",
   "metadata": {},
   "outputs": [],
   "source": [
    "dataset=pd.read_csv('D:\\\\ai\\\\dataset\\\\insurance.csv')"
   ]
  },
  {
   "cell_type": "code",
   "execution_count": 3,
   "id": "370bf9e9",
   "metadata": {},
   "outputs": [
    {
     "data": {
      "text/plain": [
       "<bound method DataFrame.info of       age     sex     bmi  children smoker     region      charges\n",
       "0      19  female  27.900         0    yes  southwest  16884.92400\n",
       "1      18    male  33.770         1     no  southeast   1725.55230\n",
       "2      28    male  33.000         3     no  southeast   4449.46200\n",
       "3      33    male  22.705         0     no  northwest  21984.47061\n",
       "4      32    male  28.880         0     no  northwest   3866.85520\n",
       "...   ...     ...     ...       ...    ...        ...          ...\n",
       "1333   50    male  30.970         3     no  northwest  10600.54830\n",
       "1334   18  female  31.920         0     no  northeast   2205.98080\n",
       "1335   18  female  36.850         0     no  southeast   1629.83350\n",
       "1336   21  female  25.800         0     no  southwest   2007.94500\n",
       "1337   61  female  29.070         0    yes  northwest  29141.36030\n",
       "\n",
       "[1338 rows x 7 columns]>"
      ]
     },
     "execution_count": 3,
     "metadata": {},
     "output_type": "execute_result"
    }
   ],
   "source": [
    "dataset.info()"
   ]
  },
  {
   "cell_type": "code",
   "execution_count": 4,
   "id": "c93185e0",
   "metadata": {},
   "outputs": [
    {
     "data": {
      "text/plain": [
       "age         0\n",
       "sex         0\n",
       "bmi         0\n",
       "children    0\n",
       "smoker      0\n",
       "region      0\n",
       "charges     0\n",
       "dtype: int64"
      ]
     },
     "execution_count": 4,
     "metadata": {},
     "output_type": "execute_result"
    }
   ],
   "source": [
    "dataset.isnull().sum()"
   ]
  },
  {
   "cell_type": "code",
   "execution_count": 5,
   "id": "8c062cf1",
   "metadata": {},
   "outputs": [
    {
     "data": {
      "text/plain": [
       "<bound method NDFrame.describe of       age     sex     bmi  children smoker     region      charges\n",
       "0      19  female  27.900         0    yes  southwest  16884.92400\n",
       "1      18    male  33.770         1     no  southeast   1725.55230\n",
       "2      28    male  33.000         3     no  southeast   4449.46200\n",
       "3      33    male  22.705         0     no  northwest  21984.47061\n",
       "4      32    male  28.880         0     no  northwest   3866.85520\n",
       "...   ...     ...     ...       ...    ...        ...          ...\n",
       "1333   50    male  30.970         3     no  northwest  10600.54830\n",
       "1334   18  female  31.920         0     no  northeast   2205.98080\n",
       "1335   18  female  36.850         0     no  southeast   1629.83350\n",
       "1336   21  female  25.800         0     no  southwest   2007.94500\n",
       "1337   61  female  29.070         0    yes  northwest  29141.36030\n",
       "\n",
       "[1338 rows x 7 columns]>"
      ]
     },
     "execution_count": 5,
     "metadata": {},
     "output_type": "execute_result"
    }
   ],
   "source": [
    "dataset.describe"
   ]
  },
  {
   "cell_type": "code",
   "execution_count": 6,
   "id": "5f02a62c",
   "metadata": {},
   "outputs": [
    {
     "name": "stdout",
     "output_type": "stream",
     "text": [
      "['female' 'male']\n",
      "['southwest' 'southeast' 'northwest' 'northeast']\n",
      "['yes' 'no']\n"
     ]
    }
   ],
   "source": [
    "print(dataset['sex'].unique())\n",
    "print(dataset['region'].unique())\n",
    "print(dataset['smoker'].unique())"
   ]
  },
  {
   "cell_type": "code",
   "execution_count": 7,
   "id": "dc2803e0",
   "metadata": {},
   "outputs": [],
   "source": [
    "dataset['sex']=dataset['sex'].map({'female':0,'male':1})\n",
    "dataset['region']=dataset['region'].map({'southwest':0,'southeast':1,'northwest':2,'northeast':3})\n",
    "dataset['smoker']=dataset['smoker'].map({'yes':1,'no':0})"
   ]
  },
  {
   "cell_type": "code",
   "execution_count": 8,
   "id": "1d624416",
   "metadata": {},
   "outputs": [
    {
     "data": {
      "text/plain": [
       "<bound method NDFrame.head of       age  sex     bmi  children  smoker  region      charges\n",
       "0      19    0  27.900         0       1       0  16884.92400\n",
       "1      18    1  33.770         1       0       1   1725.55230\n",
       "2      28    1  33.000         3       0       1   4449.46200\n",
       "3      33    1  22.705         0       0       2  21984.47061\n",
       "4      32    1  28.880         0       0       2   3866.85520\n",
       "...   ...  ...     ...       ...     ...     ...          ...\n",
       "1333   50    1  30.970         3       0       2  10600.54830\n",
       "1334   18    0  31.920         0       0       3   2205.98080\n",
       "1335   18    0  36.850         0       0       1   1629.83350\n",
       "1336   21    0  25.800         0       0       0   2007.94500\n",
       "1337   61    0  29.070         0       1       2  29141.36030\n",
       "\n",
       "[1338 rows x 7 columns]>"
      ]
     },
     "execution_count": 8,
     "metadata": {},
     "output_type": "execute_result"
    }
   ],
   "source": [
    "dataset.head"
   ]
  },
  {
   "cell_type": "code",
   "execution_count": 9,
   "id": "8c1b568b",
   "metadata": {},
   "outputs": [
    {
     "name": "stdout",
     "output_type": "stream",
     "text": [
      "(1338, 6)\n",
      "(1338,)\n"
     ]
    }
   ],
   "source": [
    "x=dataset.drop(['charges'],axis=1)\n",
    "y=dataset['charges']\n",
    "print(x.shape)\n",
    "print(y.shape)"
   ]
  },
  {
   "cell_type": "code",
   "execution_count": 10,
   "id": "a284e6f8",
   "metadata": {},
   "outputs": [],
   "source": [
    "from sklearn.model_selection import train_test_split\n",
    "x_train,x_test,y_train,y_test=train_test_split(x,y,test_size=0.3,random_state=109)"
   ]
  },
  {
   "cell_type": "code",
   "execution_count": 11,
   "id": "81e3fa47",
   "metadata": {},
   "outputs": [],
   "source": [
    "from sklearn.linear_model import LinearRegression\n",
    "from sklearn.svm import SVR\n",
    "from sklearn.ensemble import RandomForestRegressor\n",
    "from sklearn.ensemble import GradientBoostingRegressor"
   ]
  },
  {
   "cell_type": "code",
   "execution_count": 12,
   "id": "0b911657",
   "metadata": {},
   "outputs": [],
   "source": [
    "\n",
    "lr=LinearRegression()\n",
    "lr=lr.fit(x_train,y_train)\n",
    "\n",
    "sv=SVR()\n",
    "sv=sv.fit(x_train,y_train)\n",
    "\n",
    "rf=RandomForestRegressor()\n",
    "rf=rf.fit(x_train,y_train)\n",
    "\n",
    "gb=GradientBoostingRegressor()\n",
    "gb=gb.fit(x_train,y_train)\n"
   ]
  },
  {
   "cell_type": "code",
   "execution_count": 13,
   "id": "ea0c2a3f",
   "metadata": {},
   "outputs": [],
   "source": [
    "y_pred_lr=lr.predict(x_test)\n",
    "y_pred_sv=sv.predict(x_test)\n",
    "y_pred_rf=rf.predict(x_test)\n",
    "y_pred_gb=gb.predict(x_test)"
   ]
  },
  {
   "cell_type": "code",
   "execution_count": 14,
   "id": "d617e413",
   "metadata": {
    "scrolled": true
   },
   "outputs": [
    {
     "name": "stdout",
     "output_type": "stream",
     "text": [
      "           actual    LR_Predict   SV_Predict    RF_Predict    GB_Predict\n",
      "1063   6548.19505   7953.828231  9215.956841   6412.811069   6295.383059\n",
      "1317   1163.46270   9893.888573  9182.780055   8763.590652   2765.735273\n",
      "140   27375.90478   5083.599472  9202.668795   6627.526047   6285.794387\n",
      "106    2331.51900   2191.477780  9147.446566   2612.484911   3775.297373\n",
      "634    9391.34600  13892.816131  9310.443396   9236.649543  10372.983011\n",
      "...           ...           ...          ...           ...           ...\n",
      "999    5267.81815   5974.506599  9214.911761   5172.275840   4734.905970\n",
      "901   48673.55880  40340.320971  9351.094011  48416.789929  47110.668525\n",
      "1025   2020.17700   4271.921930  9156.209094   2931.312346   2954.917482\n",
      "817    3597.59600   7024.600746  9164.833554   6532.757027   6918.820436\n",
      "780   18259.21600  28483.465512  9183.624574  19958.565910  18548.601705\n",
      "\n",
      "[402 rows x 5 columns]\n"
     ]
    }
   ],
   "source": [
    "pred=pd.DataFrame({'actual':y_test,\n",
    "                   'LR_Predict':y_pred_lr,\n",
    "                   'SV_Predict':y_pred_sv,\n",
    "                   'RF_Predict':y_pred_rf,\n",
    "                   'GB_Predict':y_pred_gb})\n",
    "print(pred)\n"
   ]
  },
  {
   "cell_type": "code",
   "execution_count": 22,
   "id": "d4433325",
   "metadata": {},
   "outputs": [
    {
     "name": "stdout",
     "output_type": "stream",
     "text": [
      "R2 LR :  0.7304751269704365\n",
      "R2 SV :  -0.11318002503458446\n",
      "R2 RF :  0.8053412313594781\n",
      "R2 GB :  0.8413150135947122\n"
     ]
    }
   ],
   "source": [
    "from sklearn import metrics\n",
    "print('R2 LR : ',metrics.r2_score(y_test,y_pred_lr))\n",
    "print('R2 SV : ',metrics.r2_score(y_test,y_pred_sv))\n",
    "print('R2 RF : ',metrics.r2_score(y_test,y_pred_rf))\n",
    "print('R2 GB : ',metrics.r2_score(y_test,y_pred_gb))"
   ]
  },
  {
   "cell_type": "code",
   "execution_count": 23,
   "id": "8020ae6c",
   "metadata": {},
   "outputs": [
    {
     "name": "stdout",
     "output_type": "stream",
     "text": [
      "Mean absoulute error LR 4373.865016160956\n",
      "Mean absoulute error SV 8511.647978185876\n",
      "Mean absoulute error Rf 2949.1051318336313\n",
      "Mean absoulute error GB 2533.8530253055405\n"
     ]
    }
   ],
   "source": [
    "print('Mean absoulute error LR',metrics.mean_absolute_error(y_test,y_pred_lr))\n",
    "print('Mean absoulute error SV',metrics.mean_absolute_error(y_test,y_pred_sv))\n",
    "print('Mean absoulute error Rf',metrics.mean_absolute_error(y_test,y_pred_rf))      \n",
    "print('Mean absoulute error GB',metrics.mean_absolute_error(y_test,y_pred_gb))      "
   ]
  },
  {
   "cell_type": "code",
   "execution_count": 28,
   "id": "7eae4ac3",
   "metadata": {},
   "outputs": [
    {
     "name": "stdout",
     "output_type": "stream",
     "text": [
      "   age  sex   bmi  children  smoker  region\n",
      "0   40    1  40.3         4       1       2\n"
     ]
    }
   ],
   "source": [
    "data = {'age' : 40,\n",
    "        'sex' : 1,\n",
    "        'bmi' : 40.30,\n",
    "        'children' : 4,\n",
    "        'smoker' : 1,\n",
    "        'region' : 2}\n",
    "df=pd.DataFrame(data,index=[0])\n",
    "print(df)"
   ]
  },
  {
   "cell_type": "code",
   "execution_count": 32,
   "id": "01a8125f",
   "metadata": {},
   "outputs": [
    {
     "name": "stdout",
     "output_type": "stream",
     "text": [
      "The Cost of Health Insurance =  [41241.87526313]\n"
     ]
    }
   ],
   "source": [
    "new_pred=gb.predict(df)\n",
    "print('The Cost of Health Insurance = ',new_pred)"
   ]
  },
  {
   "cell_type": "code",
   "execution_count": null,
   "id": "5f6d98d1",
   "metadata": {},
   "outputs": [],
   "source": []
  }
 ],
 "metadata": {
  "kernelspec": {
   "display_name": "Python 3 (ipykernel)",
   "language": "python",
   "name": "python3"
  },
  "language_info": {
   "codemirror_mode": {
    "name": "ipython",
    "version": 3
   },
   "file_extension": ".py",
   "mimetype": "text/x-python",
   "name": "python",
   "nbconvert_exporter": "python",
   "pygments_lexer": "ipython3",
   "version": "3.9.7"
  }
 },
 "nbformat": 4,
 "nbformat_minor": 5
}
